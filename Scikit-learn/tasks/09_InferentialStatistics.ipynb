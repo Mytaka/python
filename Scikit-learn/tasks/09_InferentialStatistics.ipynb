{
  "cells": [
    {
      "cell_type": "markdown",
      "metadata": {
        "id": "t3dPXJ4o8fMX"
      },
      "source": [
        "## Статистический вывод"
      ]
    },
    {
      "cell_type": "markdown",
      "metadata": {
        "id": "yOptbjJQpwx8"
      },
      "source": [
        "### Построение доверительного интервала"
      ]
    },
    {
      "cell_type": "code",
      "execution_count": null,
      "metadata": {
        "id": "cfUKFi_IqoI9"
      },
      "outputs": [],
      "source": [
        "# вновь воспользуемся нашими данными о росте\n",
        "import numpy as np\n",
        "np.random.seed(42)\n",
        "height = list(np.round(np.random.normal(180, 10, 1000)))"
      ]
    },
    {
      "cell_type": "code",
      "execution_count": null,
      "metadata": {
        "colab": {
          "base_uri": "https://localhost:8080/"
        },
        "id": "swlCdgsarFbm",
        "outputId": "952ae5a7-025d-4cda-fe64-903ac3dce3e9"
      },
      "outputs": [
        {
          "name": "stdout",
          "output_type": "stream",
          "text": [
            "[185.0, 179.0, 186.0, 195.0, 178.0, 178.0, 196.0, 188.0, 175.0, 185.0, 175.0, 175.0, 182.0, 161.0, 163.0, 174.0, 170.0, 183.0, 171.0, 166.0, 195.0, 178.0, 181.0, 166.0, 175.0, 181.0, 168.0, 184.0, 174.0, 177.0, 174.0, 199.0, 180.0, 169.0, 188.0, 168.0, 182.0, 160.0, 167.0, 182.0, 187.0, 182.0, 179.0, 177.0, 165.0, 173.0, 175.0, 191.0, 183.0, 162.0, 183.0, 176.0, 173.0, 186.0, 190.0, 189.0, 172.0, 177.0, 183.0, 190.0, 175.0, 178.0, 169.0, 168.0, 188.0, 194.0, 179.0, 190.0, 184.0, 174.0, 184.0, 195.0, 180.0, 196.0, 154.0, 188.0, 181.0, 177.0, 181.0, 160.0, 178.0, 184.0, 195.0, 175.0, 172.0, 175.0, 189.0, 183.0, 175.0, 185.0, 181.0, 190.0, 173.0, 177.0, 176.0, 165.0, 183.0, 183.0, 180.0, 178.0, 166.0, 176.0, 177.0, 172.0, 178.0, 184.0, 199.0, 182.0, 183.0, 179.0, 161.0, 180.0, 181.0, 205.0, 178.0, 183.0, 180.0, 168.0, 191.0, 188.0, 188.0, 171.0, 194.0, 166.0, 186.0, 202.0, 170.0, 174.0, 181.0, 175.0, 164.0, 181.0, 169.0, 185.0, 171.0, 195.0, 172.0, 177.0, 188.0, 168.0, 182.0, 193.0, 164.0, 182.0, 183.0, 188.0, 168.0, 167.0, 185.0, 183.0, 183.0, 183.0, 173.0, 182.0, 183.0, 173.0, 199.0, 185.0, 168.0, 187.0, 170.0, 188.0, 192.0, 172.0, 190.0, 184.0, 188.0, 199.0, 178.0, 172.0, 171.0, 172.0, 179.0, 183.0, 183.0, 188.0, 180.0, 195.0, 177.0, 207.0, 186.0, 171.0, 169.0, 185.0, 178.0, 187.0, 185.0, 179.0, 172.0, 165.0, 176.0, 189.0, 182.0, 168.0, 182.0, 184.0, 171.0, 182.0, 181.0, 169.0, 184.0, 186.0, 191.0, 191.0, 166.0, 171.0, 185.0, 185.0, 185.0, 219.0, 186.0, 191.0, 190.0, 187.0, 177.0, 188.0, 172.0, 178.0, 175.0, 181.0, 203.0, 161.0, 187.0, 164.0, 175.0, 191.0, 181.0, 169.0, 173.0, 187.0, 173.0, 182.0, 180.0, 173.0, 201.0, 186.0, 160.0, 182.0, 173.0, 189.0, 172.0, 179.0, 185.0, 189.0, 168.0, 177.0, 175.0, 173.0, 198.0, 184.0, 167.0, 189.0, 201.0, 190.0, 165.0, 175.0, 193.0, 173.0, 184.0, 188.0, 171.0, 179.0, 148.0, 170.0, 177.0, 168.0, 196.0, 166.0, 176.0, 181.0, 194.0, 166.0, 192.0, 180.0, 170.0, 185.0, 182.0, 174.0, 181.0, 176.0, 181.0, 187.0, 196.0, 168.0, 201.0, 160.0, 178.0, 186.0, 183.0, 174.0, 178.0, 175.0, 174.0, 188.0, 184.0, 173.0, 189.0, 183.0, 188.0, 186.0, 172.0, 174.0, 187.0, 186.0, 180.0, 181.0, 193.0, 174.0, 185.0, 178.0, 178.0, 191.0, 188.0, 188.0, 193.0, 180.0, 187.0, 177.0, 183.0, 179.0, 181.0, 186.0, 172.0, 201.0, 170.0, 168.0, 192.0, 188.0, 186.0, 186.0, 180.0, 171.0, 181.0, 173.0, 190.0, 179.0, 172.0, 177.0, 184.0, 174.0, 172.0, 182.0, 182.0, 175.0, 175.0, 182.0, 166.0, 166.0, 173.0, 178.0, 183.0, 195.0, 189.0, 178.0, 180.0, 170.0, 180.0, 177.0, 183.0, 172.0, 185.0, 195.0, 179.0, 184.0, 187.0, 176.0, 182.0, 180.0, 181.0, 172.0, 180.0, 185.0, 195.0, 190.0, 202.0, 172.0, 189.0, 182.0, 202.0, 172.0, 172.0, 174.0, 159.0, 175.0, 172.0, 182.0, 183.0, 199.0, 190.0, 174.0, 171.0, 185.0, 167.0, 198.0, 192.0, 175.0, 163.0, 194.0, 179.0, 192.0, 164.0, 174.0, 180.0, 180.0, 175.0, 186.0, 169.0, 179.0, 181.0, 185.0, 187.0, 169.0, 165.0, 193.0, 183.0, 173.0, 196.0, 181.0, 192.0, 181.0, 201.0, 198.0, 178.0, 190.0, 186.0, 194.0, 170.0, 187.0, 191.0, 162.0, 168.0, 160.0, 177.0, 187.0, 195.0, 181.0, 196.0, 166.0, 163.0, 179.0, 184.0, 180.0, 159.0, 179.0, 167.0, 187.0, 184.0, 171.0, 175.0, 169.0, 179.0, 190.0, 170.0, 185.0, 175.0, 172.0, 179.0, 170.0, 174.0, 168.0, 200.0, 180.0, 173.0, 182.0, 179.0, 178.0, 186.0, 188.0, 175.0, 174.0, 177.0, 157.0, 165.0, 194.0, 196.0, 178.0, 186.0, 183.0, 211.0, 191.0, 179.0, 170.0, 164.0, 182.0, 172.0, 166.0, 174.0, 169.0, 197.0, 189.0, 180.0, 195.0, 181.0, 171.0, 195.0, 185.0, 170.0, 178.0, 171.0, 166.0, 189.0, 199.0, 166.0, 186.0, 173.0, 175.0, 174.0, 171.0, 180.0, 172.0, 183.0, 179.0, 178.0, 171.0, 174.0, 188.0, 185.0, 170.0, 181.0, 188.0, 163.0, 185.0, 173.0, 186.0, 172.0, 162.0, 164.0, 180.0, 183.0, 171.0, 186.0, 163.0, 179.0, 168.0, 173.0, 180.0, 171.0, 176.0, 190.0, 174.0, 188.0, 169.0, 185.0, 194.0, 155.0, 172.0, 186.0, 178.0, 184.0, 174.0, 181.0, 178.0, 192.0, 183.0, 183.0, 176.0, 175.0, 176.0, 184.0, 176.0, 183.0, 201.0, 189.0, 177.0, 192.0, 176.0, 160.0, 170.0, 161.0, 176.0, 180.0, 197.0, 183.0, 178.0, 188.0, 158.0, 182.0, 188.0, 165.0, 191.0, 183.0, 176.0, 186.0, 203.0, 182.0, 182.0, 175.0, 172.0, 188.0, 171.0, 181.0, 175.0, 185.0, 183.0, 190.0, 175.0, 177.0, 170.0, 176.0, 184.0, 188.0, 171.0, 189.0, 194.0, 184.0, 199.0, 172.0, 168.0, 162.0, 195.0, 187.0, 179.0, 183.0, 169.0, 204.0, 181.0, 181.0, 187.0, 185.0, 182.0, 172.0, 185.0, 199.0, 193.0, 196.0, 175.0, 170.0, 179.0, 181.0, 191.0, 163.0, 195.0, 178.0, 176.0, 170.0, 163.0, 188.0, 181.0, 167.0, 167.0, 177.0, 197.0, 177.0, 165.0, 178.0, 177.0, 153.0, 179.0, 178.0, 187.0, 198.0, 191.0, 177.0, 169.0, 206.0, 181.0, 180.0, 180.0, 182.0, 179.0, 174.0, 175.0, 180.0, 175.0, 173.0, 181.0, 177.0, 195.0, 153.0, 191.0, 192.0, 159.0, 177.0, 176.0, 166.0, 172.0, 169.0, 198.0, 189.0, 193.0, 187.0, 169.0, 175.0, 185.0, 168.0, 187.0, 178.0, 176.0, 187.0, 184.0, 176.0, 192.0, 169.0, 186.0, 186.0, 177.0, 183.0, 167.0, 189.0, 178.0, 175.0, 190.0, 173.0, 166.0, 164.0, 186.0, 167.0, 198.0, 159.0, 197.0, 182.0, 179.0, 175.0, 184.0, 180.0, 191.0, 181.0, 182.0, 176.0, 179.0, 183.0, 163.0, 167.0, 187.0, 182.0, 178.0, 180.0, 183.0, 175.0, 172.0, 182.0, 170.0, 184.0, 163.0, 190.0, 185.0, 183.0, 190.0, 197.0, 190.0, 162.0, 167.0, 174.0, 180.0, 185.0, 173.0, 182.0, 172.0, 174.0, 166.0, 171.0, 166.0, 170.0, 191.0, 171.0, 206.0, 185.0, 182.0, 171.0, 187.0, 174.0, 181.0, 206.0, 179.0, 191.0, 173.0, 180.0, 198.0, 174.0, 198.0, 187.0, 174.0, 186.0, 190.0, 186.0, 164.0, 173.0, 178.0, 179.0, 186.0, 182.0, 167.0, 184.0, 186.0, 186.0, 191.0, 188.0, 185.0, 179.0, 163.0, 184.0, 182.0, 183.0, 167.0, 169.0, 191.0, 180.0, 187.0, 180.0, 180.0, 189.0, 175.0, 181.0, 175.0, 176.0, 177.0, 182.0, 175.0, 193.0, 171.0, 178.0, 176.0, 194.0, 182.0, 190.0, 165.0, 183.0, 189.0, 181.0, 191.0, 175.0, 194.0, 203.0, 176.0, 176.0, 195.0, 196.0, 175.0, 176.0, 177.0, 167.0, 171.0, 170.0, 172.0, 180.0, 182.0, 196.0, 170.0, 190.0, 178.0, 180.0, 187.0, 169.0, 184.0, 182.0, 185.0, 183.0, 205.0, 174.0, 175.0, 174.0, 174.0, 174.0, 192.0, 194.0, 174.0, 172.0, 185.0, 174.0, 186.0, 182.0, 165.0, 195.0, 198.0, 174.0, 176.0, 183.0, 183.0, 187.0, 200.0, 178.0, 172.0, 166.0, 173.0, 180.0, 198.0, 175.0, 182.0, 180.0, 192.0, 205.0, 175.0, 175.0, 190.0, 187.0, 198.0, 186.0, 176.0, 186.0, 191.0, 188.0, 185.0, 191.0, 192.0, 194.0, 186.0, 178.0, 181.0, 192.0, 172.0, 184.0, 176.0, 180.0, 193.0, 182.0, 180.0, 166.0, 187.0, 186.0, 202.0, 177.0, 182.0, 182.0, 196.0, 179.0, 183.0, 186.0, 182.0, 176.0, 182.0, 191.0, 170.0, 181.0, 173.0, 192.0, 165.0, 174.0, 184.0, 196.0, 179.0, 174.0, 199.0, 166.0, 158.0, 184.0, 175.0, 170.0, 187.0, 182.0, 174.0, 167.0, 189.0, 187.0, 179.0, 198.0, 169.0, 165.0, 173.0, 180.0, 182.0, 178.0, 184.0, 167.0, 194.0, 179.0, 191.0, 183.0, 185.0, 186.0, 184.0, 186.0, 193.0, 182.0, 187.0, 179.0, 194.0, 173.0, 198.0, 180.0, 166.0, 181.0, 173.0, 188.0, 173.0, 176.0, 161.0, 175.0, 156.0, 164.0, 188.0, 188.0, 184.0, 170.0, 180.0, 180.0, 168.0, 195.0, 189.0, 178.0, 180.0, 182.0, 160.0, 178.0, 173.0, 170.0, 177.0, 198.0, 186.0, 174.0, 186.0]\n"
          ]
        }
      ],
      "source": [
        "print(height)"
      ]
    },
    {
      "cell_type": "code",
      "execution_count": null,
      "metadata": {
        "id": "5hZMANeRqAUG"
      },
      "outputs": [],
      "source": [
        "# теперь нам понадобится модуль stats библиотеки scypy (Scientific Python)\n",
        "import scipy.stats as st"
      ]
    },
    {
      "cell_type": "code",
      "execution_count": null,
      "metadata": {
        "colab": {
          "base_uri": "https://localhost:8080/"
        },
        "id": "mtzsMjadqQK5",
        "outputId": "251917a5-c986-4bdd-d11b-992072058d97"
      },
      "outputs": [
        {
          "name": "stdout",
          "output_type": "stream",
          "text": [
            "[179.69 180.71]\n"
          ]
        }
      ],
      "source": [
        "# создадим 90-процентный доверительный интервал (confidence interval, ci)\n",
        "ci = st.norm.interval(confidence = 0.90, loc = np.mean(height), scale = st.sem(height))\n",
        "\n",
        "# теперь округлим до трех знаков после запятой и выведем результат\n",
        "print(np.round(ci, 2))"
      ]
    },
    {
      "cell_type": "markdown",
      "metadata": {
        "id": "EYuQtIePuCV9"
      },
      "source": [
        "### Проверка гипотезы"
      ]
    },
    {
      "cell_type": "code",
      "execution_count": null,
      "metadata": {
        "colab": {
          "base_uri": "https://localhost:8080/"
        },
        "id": "B_txqBGBoUKT",
        "outputId": "29d173d2-a531-4bf7-bc37-af5d576c9814"
      },
      "outputs": [
        {
          "name": "stdout",
          "output_type": "stream",
          "text": [
            "180.2\n"
          ]
        }
      ],
      "source": [
        "# вспомним какое было среднее значение выборки\n",
        "height_mean = np.mean(height)\n",
        "print(np.round(height_mean, 2))"
      ]
    },
    {
      "cell_type": "code",
      "execution_count": null,
      "metadata": {
        "colab": {
          "base_uri": "https://localhost:8080/"
        },
        "id": "vptY8Jb7ogRk",
        "outputId": "69cfe171-a1fd-4b21-adca-b1eb1048bf2f"
      },
      "outputs": [
        {
          "name": "stdout",
          "output_type": "stream",
          "text": [
            "9.035492171563733e-09\n"
          ]
        }
      ],
      "source": [
        "# теперь будем использовать ttest_1samp, которому передадим нашу выборку и\n",
        "# предполагаемое истинное среднее 182 см\n",
        "t_statistic, p_value = st.ttest_1samp(height, 182)\n",
        "\n",
        "# переменная pvalue как раз и содержит нужную нам вероятность\n",
        "print(p_value)"
      ]
    },
    {
      "cell_type": "code",
      "execution_count": null,
      "metadata": {
        "colab": {
          "base_uri": "https://localhost:8080/"
        },
        "id": "vZdn9dKAolhp",
        "outputId": "91a6c9d8-e556-4ea0-d66d-bd21ce2f57ae"
      },
      "outputs": [
        {
          "name": "stdout",
          "output_type": "stream",
          "text": [
            "Есть основания отвергнуть нулевую гипотезу\n"
          ]
        }
      ],
      "source": [
        "# теперь напишем небольшую программу, которая скажет отвергнуть нулевую гипотезу или нет\n",
        "if p_value < 0.05:    # пороговым значением мы выбрали 0,05 или 5%\n",
        "   print(\"Есть основания отвергнуть нулевую гипотезу\")\n",
        "else:\n",
        "  print(\"Нет оснований отвергнуть нулевую гипотезу\")"
      ]
    },
    {
      "cell_type": "markdown",
      "metadata": {
        "id": "-PiSbAkj--rZ"
      },
      "source": [
        "### Упражнения"
      ]
    },
    {
      "cell_type": "markdown",
      "metadata": {
        "id": "LgKYuic58U85"
      },
      "source": [
        "#### Доверительный интервал"
      ]
    },
    {
      "cell_type": "code",
      "execution_count": 2,
      "metadata": {
        "colab": {
          "base_uri": "https://localhost:8080/"
        },
        "id": "e5xGx3kw_B8E",
        "outputId": "0c4e301f-e316-441f-a576-e4e1ee43286b"
      },
      "outputs": [
        {
          "name": "stdout",
          "output_type": "stream",
          "text": [
            "[np.float64(345.0), np.float64(288.0), np.float64(358.0), np.float64(437.0), np.float64(279.0), np.float64(279.0), np.float64(442.0), np.float64(369.0), np.float64(258.0), np.float64(349.0), np.float64(258.0), np.float64(258.0), np.float64(322.0), np.float64(128.0), np.float64(145.0), np.float64(249.0), np.float64(209.0), np.float64(328.0), np.float64(218.0), np.float64(173.0), np.float64(432.0), np.float64(280.0), np.float64(306.0), np.float64(172.0), np.float64(251.0), np.float64(310.0), np.float64(196.0), np.float64(334.0), np.float64(246.0), np.float64(274.0), np.float64(246.0), np.float64(467.0), np.float64(299.0), np.float64(205.0), np.float64(374.0), np.float64(190.0), np.float64(319.0), np.float64(124.0), np.float64(180.0), np.float64(318.0), np.float64(366.0), np.float64(315.0), np.float64(290.0), np.float64(273.0), np.float64(167.0), np.float64(235.0), np.float64(259.0), np.float64(395.0), np.float64(331.0), np.float64(141.0), np.float64(329.0), np.float64(265.0), np.float64(239.0), np.float64(355.0), np.float64(393.0), np.float64(384.0), np.float64(224.0), np.float64(272.0), np.float64(330.0), np.float64(388.0), np.float64(257.0), np.float64(283.0), np.float64(200.0), np.float64(192.0), np.float64(373.0), np.float64(422.0), np.float64(294.0), np.float64(390.0), np.float64(333.0), np.float64(242.0), np.float64(333.0), np.float64(438.0), np.float64(297.0), np.float64(441.0), np.float64(64.0), np.float64(374.0), np.float64(308.0), np.float64(273.0), np.float64(308.0), np.float64(121.0), np.float64(280.0), np.float64(332.0), np.float64(433.0), np.float64(253.0), np.float64(227.0), np.float64(255.0), np.float64(382.0), np.float64(330.0), np.float64(252.0), np.float64(346.0), np.float64(309.0), np.float64(387.0), np.float64(237.0), np.float64(271.0), np.float64(265.0), np.float64(168.0), np.float64(327.0), np.float64(323.0), np.float64(300.0), np.float64(279.0), np.float64(173.0), np.float64(262.0), np.float64(269.0), np.float64(228.0), np.float64(285.0), np.float64(336.0), np.float64(470.0), np.float64(316.0), np.float64(323.0), np.float64(293.0), np.float64(127.0), np.float64(298.0), np.float64(305.0), np.float64(522.0), np.float64(283.0), np.float64(327.0), np.float64(297.0), np.float64(195.0), np.float64(403.0), np.float64(368.0), np.float64(371.0), np.float64(218.0), np.float64(426.0), np.float64(174.0), np.float64(353.0), np.float64(497.0), np.float64(211.0), np.float64(249.0), np.float64(309.0), np.float64(255.0), np.float64(160.0), np.float64(306.0), np.float64(204.0), np.float64(343.0), np.float64(217.0), np.float64(439.0), np.float64(230.0), np.float64(271.0), np.float64(373.0), np.float64(189.0), np.float64(320.0), np.float64(418.0), np.float64(155.0), np.float64(317.0), np.float64(323.0), np.float64(370.0), np.float64(189.0), np.float64(181.0), np.float64(347.0), np.float64(327.0), np.float64(323.0), np.float64(331.0), np.float64(239.0), np.float64(321.0), np.float64(326.0), np.float64(236.0), np.float64(468.0), np.float64(343.0), np.float64(193.0), np.float64(359.0), np.float64(212.0), np.float64(371.0), np.float64(404.0), np.float64(226.0), np.float64(387.0), np.float64(337.0), np.float64(374.0), np.float64(471.0), np.float64(278.0), np.float64(232.0), np.float64(220.0), np.float64(227.0), np.float64(293.0), np.float64(331.0), np.float64(325.0), np.float64(374.0), np.float64(301.0), np.float64(431.0), np.float64(276.0), np.float64(545.0), np.float64(356.0), np.float64(223.0), np.float64(204.0), np.float64(343.0), np.float64(280.0), np.float64(364.0), np.float64(343.0), np.float64(293.0), np.float64(224.0), np.float64(164.0), np.float64(260.0), np.float64(377.0), np.float64(319.0), np.float64(188.0), np.float64(316.0), np.float64(335.0), np.float64(220.0), np.float64(314.0), np.float64(305.0), np.float64(197.0), np.float64(332.0), np.float64(350.0), np.float64(397.0), np.float64(395.0), np.float64(176.0), np.float64(216.0), np.float64(346.0), np.float64(346.0), np.float64(346.0), np.float64(647.0), np.float64(351.0), np.float64(402.0), np.float64(386.0), np.float64(359.0), np.float64(272.0), np.float64(368.0), np.float64(230.0), np.float64(279.0), np.float64(256.0), np.float64(307.0), np.float64(508.0), np.float64(132.0), np.float64(362.0), np.float64(155.0), np.float64(258.0), np.float64(398.0), np.float64(306.0), np.float64(203.0), np.float64(236.0), np.float64(361.0), np.float64(234.0), np.float64(319.0), np.float64(304.0), np.float64(241.0), np.float64(493.0), np.float64(357.0), np.float64(118.0), np.float64(317.0), np.float64(240.0), np.float64(377.0), np.float64(229.0), np.float64(290.0), np.float64(345.0), np.float64(378.0), np.float64(192.0), np.float64(270.0), np.float64(257.0), np.float64(241.0), np.float64(459.0), np.float64(336.0), np.float64(187.0), np.float64(383.0), np.float64(491.0), np.float64(393.0), np.float64(163.0), np.float64(256.0), np.float64(414.0), np.float64(236.0), np.float64(340.0), np.float64(370.0), np.float64(217.0), np.float64(295.0), np.float64(8.0), np.float64(208.0), np.float64(277.0), np.float64(188.0), np.float64(447.0), np.float64(171.0), np.float64(260.0), np.float64(312.0), np.float64(430.0), np.float64(171.0), np.float64(405.0), np.float64(301.0), np.float64(212.0), np.float64(342.0), np.float64(318.0), np.float64(246.0), np.float64(306.0), np.float64(265.0), np.float64(310.0), np.float64(360.0), np.float64(443.0), np.float64(189.0), np.float64(492.0), np.float64(124.0), np.float64(286.0), np.float64(353.0), np.float64(325.0), np.float64(244.0), np.float64(281.0), np.float64(256.0), np.float64(247.0), np.float64(376.0), np.float64(332.0), np.float64(238.0), np.float64(381.0), np.float64(328.0), np.float64(373.0), np.float64(357.0), np.float64(225.0), np.float64(250.0), np.float64(367.0), np.float64(355.0), np.float64(298.0), np.float64(311.0), np.float64(415.0), np.float64(247.0), np.float64(349.0), np.float64(282.0), np.float64(280.0), np.float64(399.0), np.float64(374.0), np.float64(373.0), np.float64(417.0), np.float64(302.0), np.float64(361.0), np.float64(272.0), np.float64(329.0), np.float64(288.0), np.float64(309.0), np.float64(354.0), np.float64(226.0), np.float64(488.0), np.float64(209.0), np.float64(191.0), np.float64(404.0), np.float64(371.0), np.float64(356.0), np.float64(357.0), np.float64(299.0), np.float64(219.0), np.float64(307.0), np.float64(239.0), np.float64(388.0), np.float64(287.0), np.float64(226.0), np.float64(271.0), np.float64(337.0), np.float64(249.0), np.float64(226.0), np.float64(322.0), np.float64(322.0), np.float64(254.0), np.float64(258.0), np.float64(321.0), np.float64(170.0), np.float64(173.0), np.float64(235.0), np.float64(281.0), np.float64(328.0), np.float64(433.0), np.float64(377.0), np.float64(286.0), np.float64(298.0), np.float64(210.0), np.float64(298.0), np.float64(274.0), np.float64(329.0), np.float64(226.0), np.float64(347.0), np.float64(438.0), np.float64(290.0), np.float64(336.0), np.float64(362.0), np.float64(264.0), np.float64(320.0), np.float64(301.0), np.float64(309.0), np.float64(230.0), np.float64(302.0), np.float64(345.0), np.float64(431.0), np.float64(386.0), np.float64(494.0), np.float64(231.0), np.float64(379.0), np.float64(317.0), np.float64(497.0), np.float64(227.0), np.float64(224.0), np.float64(246.0), np.float64(109.0), np.float64(253.0), np.float64(232.0), np.float64(314.0), np.float64(331.0), np.float64(469.0), np.float64(386.0), np.float64(248.0), np.float64(219.0), np.float64(344.0), np.float64(181.0), np.float64(465.0), np.float64(406.0), np.float64(258.0), np.float64(146.0), np.float64(422.0), np.float64(290.0), np.float64(411.0), np.float64(157.0), np.float64(246.0), np.float64(300.0), np.float64(304.0), np.float64(259.0), np.float64(356.0), np.float64(204.0), np.float64(287.0), np.float64(311.0), np.float64(346.0), np.float64(364.0), np.float64(199.0), np.float64(162.0), np.float64(415.0), np.float64(330.0), np.float64(233.0), np.float64(440.0), np.float64(310.0), np.float64(406.0), np.float64(306.0), np.float64(485.0), np.float64(458.0), np.float64(278.0), np.float64(387.0), np.float64(358.0), np.float64(423.0), np.float64(213.0), np.float64(362.0), np.float64(395.0), np.float64(142.0), np.float64(194.0), np.float64(116.0), np.float64(276.0), np.float64(365.0), np.float64(435.0), np.float64(307.0), np.float64(447.0), np.float64(176.0), np.float64(147.0), np.float64(295.0), np.float64(335.0), np.float64(297.0), np.float64(114.0), np.float64(292.0), np.float64(183.0), np.float64(360.0), np.float64(333.0), np.float64(215.0), np.float64(254.0), np.float64(205.0), np.float64(294.0), np.float64(386.0), np.float64(211.0), np.float64(345.0), np.float64(252.0), np.float64(229.0), np.float64(290.0), np.float64(207.0), np.float64(250.0), np.float64(192.0), np.float64(477.0), np.float64(303.0), np.float64(237.0), np.float64(319.0), np.float64(290.0), np.float64(280.0), np.float64(355.0), np.float64(368.0), np.float64(252.0), np.float64(248.0), np.float64(275.0), np.float64(93.0), np.float64(164.0), np.float64(423.0), np.float64(448.0), np.float64(278.0), np.float64(352.0), np.float64(328.0), np.float64(577.0), np.float64(401.0), np.float64(288.0), np.float64(214.0), np.float64(155.0), np.float64(318.0), np.float64(232.0), np.float64(172.0), np.float64(242.0), np.float64(203.0), np.float64(452.0), np.float64(379.0), np.float64(299.0), np.float64(433.0), np.float64(307.0), np.float64(222.0), np.float64(437.0), np.float64(349.0), np.float64(207.0), np.float64(283.0), np.float64(221.0), np.float64(176.0), np.float64(383.0), np.float64(472.0), np.float64(174.0), np.float64(351.0), np.float64(241.0), np.float64(256.0), np.float64(247.0), np.float64(222.0), np.float64(304.0), np.float64(225.0), np.float64(324.0), np.float64(295.0), np.float64(278.0), np.float64(218.0), np.float64(248.0), np.float64(368.0), np.float64(345.0), np.float64(212.0), np.float64(309.0), np.float64(368.0), np.float64(150.0), np.float64(349.0), np.float64(240.0), np.float64(351.0), np.float64(231.0), np.float64(138.0), np.float64(154.0), np.float64(304.0), np.float64(323.0), np.float64(219.0), np.float64(357.0), np.float64(150.0), np.float64(294.0), np.float64(191.0), np.float64(241.0), np.float64(304.0), np.float64(223.0), np.float64(265.0), np.float64(391.0), np.float64(248.0), np.float64(375.0), np.float64(198.0), np.float64(348.0), np.float64(430.0), np.float64(78.0), np.float64(228.0), np.float64(352.0), np.float64(282.0), np.float64(333.0), np.float64(246.0), np.float64(308.0), np.float64(286.0), np.float64(405.0), np.float64(323.0), np.float64(330.0), np.float64(263.0), np.float64(256.0), np.float64(261.0), np.float64(336.0), np.float64(262.0), np.float64(326.0), np.float64(487.0), np.float64(378.0), np.float64(271.0), np.float64(408.0), np.float64(263.0), np.float64(117.0), np.float64(209.0), np.float64(132.0), np.float64(268.0), np.float64(302.0), np.float64(451.0), np.float64(329.0), np.float64(280.0), np.float64(375.0), np.float64(101.0), np.float64(321.0), np.float64(369.0), np.float64(167.0), np.float64(403.0), np.float64(330.0), np.float64(263.0), np.float64(357.0), np.float64(504.0), np.float64(316.0), np.float64(322.0), np.float64(259.0), np.float64(224.0), np.float64(375.0), np.float64(223.0), np.float64(306.0), np.float64(257.0), np.float64(343.0), np.float64(330.0), np.float64(393.0), np.float64(254.0), np.float64(276.0), np.float64(212.0), np.float64(260.0), np.float64(334.0), np.float64(368.0), np.float64(217.0), np.float64(378.0), np.float64(422.0), np.float64(337.0), np.float64(469.0), np.float64(230.0), np.float64(188.0), np.float64(140.0), np.float64(435.0), np.float64(359.0), np.float64(295.0), np.float64(325.0), np.float64(199.0), np.float64(520.0), np.float64(312.0), np.float64(310.0), np.float64(365.0), np.float64(343.0), np.float64(320.0), np.float64(229.0), np.float64(342.0), np.float64(469.0), np.float64(421.0), np.float64(443.0), np.float64(254.0), np.float64(211.0), np.float64(289.0), np.float64(305.0), np.float64(398.0), np.float64(148.0), np.float64(438.0), np.float64(286.0), np.float64(262.0), np.float64(209.0), np.float64(151.0), np.float64(374.0), np.float64(307.0), np.float64(184.0), np.float64(183.0), np.float64(270.0), np.float64(450.0), np.float64(277.0), np.float64(165.0), np.float64(278.0), np.float64(275.0), np.float64(57.0), np.float64(295.0), np.float64(279.0), np.float64(363.0), np.float64(466.0), np.float64(401.0), np.float64(276.0), np.float64(200.0), np.float64(532.0), np.float64(305.0), np.float64(301.0), np.float64(298.0), np.float64(318.0), np.float64(287.0), np.float64(248.0), np.float64(251.0), np.float64(297.0), np.float64(251.0), np.float64(236.0), np.float64(310.0), np.float64(277.0), np.float64(435.0), np.float64(61.0), np.float64(398.0), np.float64(412.0), np.float64(113.0), np.float64(269.0), np.float64(267.0), np.float64(173.0), np.float64(230.0), np.float64(200.0), np.float64(458.0), np.float64(384.0), np.float64(414.0), np.float64(365.0), np.float64(198.0), np.float64(253.0), np.float64(344.0), np.float64(190.0), np.float64(364.0), np.float64(278.0), np.float64(266.0), np.float64(364.0), np.float64(340.0), np.float64(268.0), np.float64(404.0), np.float64(203.0), np.float64(355.0), np.float64(353.0), np.float64(272.0), np.float64(329.0), np.float64(187.0), np.float64(383.0), np.float64(283.0), np.float64(253.0), np.float64(394.0), np.float64(237.0), np.float64(173.0), np.float64(160.0), np.float64(355.0), np.float64(185.0), np.float64(458.0), np.float64(113.0), np.float64(453.0), np.float64(319.0), np.float64(291.0), np.float64(251.0), np.float64(336.0), np.float64(297.0), np.float64(399.0), np.float64(310.0), np.float64(314.0), np.float64(267.0), np.float64(295.0), np.float64(328.0), np.float64(146.0), np.float64(179.0), np.float64(367.0), np.float64(315.0), np.float64(283.0), np.float64(302.0), np.float64(331.0), np.float64(251.0), np.float64(230.0), np.float64(318.0), np.float64(212.0), np.float64(337.0), np.float64(147.0), np.float64(393.0), np.float64(343.0), np.float64(323.0), np.float64(388.0), np.float64(450.0), np.float64(391.0), np.float64(134.0), np.float64(185.0), np.float64(244.0), np.float64(302.0), np.float64(347.0), np.float64(235.0), np.float64(317.0), np.float64(232.0), np.float64(245.0), np.float64(173.0), np.float64(217.0), np.float64(178.0), np.float64(212.0), np.float64(395.0), np.float64(215.0), np.float64(537.0), np.float64(344.0), np.float64(317.0), np.float64(223.0), np.float64(363.0), np.float64(248.0), np.float64(311.0), np.float64(530.0), np.float64(291.0), np.float64(403.0), np.float64(237.0), np.float64(297.0), np.float64(459.0), np.float64(244.0), np.float64(463.0), np.float64(364.0), np.float64(249.0), np.float64(357.0), np.float64(388.0), np.float64(356.0), np.float64(159.0), np.float64(235.0), np.float64(278.0), np.float64(293.0), np.float64(356.0), np.float64(316.0), np.float64(180.0), np.float64(334.0), np.float64(355.0), np.float64(350.0), np.float64(397.0), np.float64(375.0), np.float64(341.0), np.float64(294.0), np.float64(151.0), np.float64(339.0), np.float64(319.0), np.float64(324.0), np.float64(185.0), np.float64(203.0), np.float64(395.0), np.float64(296.0), np.float64(361.0), np.float64(303.0), np.float64(303.0), np.float64(384.0), np.float64(254.0), np.float64(309.0), np.float64(258.0), np.float64(261.0), np.float64(272.0), np.float64(320.0), np.float64(257.0), np.float64(413.0), np.float64(219.0), np.float64(283.0), np.float64(260.0), np.float64(430.0), np.float64(318.0), np.float64(393.0), np.float64(166.0), np.float64(324.0), np.float64(380.0), np.float64(307.0), np.float64(396.0), np.float64(253.0), np.float64(427.0), np.float64(507.0), np.float64(267.0), np.float64(260.0), np.float64(431.0), np.float64(442.0), np.float64(253.0), np.float64(262.0), np.float64(275.0), np.float64(179.0), np.float64(217.0), np.float64(210.0), np.float64(231.0), np.float64(297.0), np.float64(321.0), np.float64(440.0), np.float64(210.0), np.float64(389.0), np.float64(281.0), np.float64(296.0), np.float64(361.0), np.float64(199.0), np.float64(334.0), np.float64(315.0), np.float64(344.0), np.float64(326.0), np.float64(521.0), np.float64(243.0), np.float64(252.0), np.float64(244.0), np.float64(250.0), np.float64(243.0), np.float64(407.0), np.float64(428.0), np.float64(249.0), np.float64(225.0), np.float64(342.0), np.float64(250.0), np.float64(357.0), np.float64(318.0), np.float64(164.0), np.float64(439.0), np.float64(462.0), np.float64(245.0), np.float64(265.0), np.float64(326.0), np.float64(330.0), np.float64(359.0), np.float64(481.0), np.float64(284.0), np.float64(228.0), np.float64(176.0), np.float64(234.0), np.float64(297.0), np.float64(462.0), np.float64(253.0), np.float64(320.0), np.float64(299.0), np.float64(407.0), np.float64(527.0), np.float64(252.0), np.float64(256.0), np.float64(394.0), np.float64(361.0), np.float64(466.0), np.float64(353.0), np.float64(268.0), np.float64(353.0), np.float64(400.0), np.float64(374.0), np.float64(346.0), np.float64(396.0), np.float64(405.0), np.float64(424.0), np.float64(358.0), np.float64(285.0), np.float64(313.0), np.float64(409.0), np.float64(226.0), np.float64(333.0), np.float64(265.0), np.float64(303.0), np.float64(415.0), np.float64(317.0), np.float64(304.0), np.float64(178.0), np.float64(367.0), np.float64(358.0), np.float64(495.0), np.float64(272.0), np.float64(320.0), np.float64(322.0), np.float64(442.0), np.float64(291.0), np.float64(325.0), np.float64(355.0), np.float64(317.0), np.float64(260.0), np.float64(317.0), np.float64(397.0), np.float64(208.0), np.float64(312.0), np.float64(237.0), np.float64(408.0), np.float64(163.0), np.float64(250.0), np.float64(334.0), np.float64(441.0), np.float64(294.0), np.float64(250.0), np.float64(469.0), np.float64(170.0), np.float64(102.0), np.float64(340.0), np.float64(255.0), np.float64(208.0), np.float64(364.0), np.float64(322.0), np.float64(249.0), np.float64(185.0), np.float64(379.0), np.float64(359.0), np.float64(291.0), np.float64(466.0), np.float64(204.0), np.float64(163.0), np.float64(238.0), np.float64(296.0), np.float64(322.0), np.float64(278.0), np.float64(332.0), np.float64(187.0), np.float64(430.0), np.float64(293.0), np.float64(401.0), np.float64(331.0), np.float64(341.0), np.float64(351.0), np.float64(340.0), np.float64(358.0), np.float64(420.0), np.float64(318.0), np.float64(364.0), np.float64(292.0), np.float64(430.0), np.float64(239.0), np.float64(462.0), np.float64(296.0), np.float64(171.0), np.float64(312.0), np.float64(239.0), np.float64(376.0), np.float64(241.0), np.float64(260.0), np.float64(130.0), np.float64(259.0), np.float64(82.0), np.float64(157.0), np.float64(368.0), np.float64(371.0), np.float64(338.0), np.float64(213.0), np.float64(296.0), np.float64(300.0), np.float64(196.0), np.float64(435.0), np.float64(379.0), np.float64(280.0), np.float64(302.0), np.float64(319.0), np.float64(116.0), np.float64(278.0), np.float64(239.0), np.float64(210.0), np.float64(275.0), np.float64(462.0), np.float64(358.0), np.float64(249.0), np.float64(352.0)]\n"
          ]
        }
      ],
      "source": [
        "# возьмем данные по банковским вкладам из упражнений предыдущего занятия\n",
        "np.random.seed(42)\n",
        "deposits = list(np.round(np.random.normal(300, 90, 1000)))\n",
        "print(deposits)"
      ]
    },
    {
      "cell_type": "markdown",
      "metadata": {
        "id": "5Mw1B5kT0j3E"
      },
      "source": [
        "**Задание 1**. Пусть представленные данные - выборка, а вы хотите сделать вывод о генеральной совокупности (всех вкладах в Украине). Постройте 95% доверительный интервал среднего размера банковского вклада."
      ]
    },
    {
      "cell_type": "code",
      "execution_count": 3,
      "metadata": {
        "id": "0Q_es2Bc8s3c"
      },
      "outputs": [
        {
          "data": {
            "text/plain": [
              "(np.float64(296.27730717091725), np.float64(307.2006928290827))"
            ]
          },
          "execution_count": 3,
          "metadata": {},
          "output_type": "execute_result"
        }
      ],
      "source": [
        "import scipy.stats as st\n",
        "import numpy as np\n",
        "\n",
        "ci = st.norm.interval(confidence=0.95, loc=np.mean(deposits), scale=st.sem(deposits))\n",
        "ci"
      ]
    },
    {
      "cell_type": "markdown",
      "metadata": {
        "id": "QSUXfBxU8YRI"
      },
      "source": [
        "#### Проверка гипотезы"
      ]
    },
    {
      "cell_type": "markdown",
      "metadata": {
        "id": "m1tbjKWg01rA"
      },
      "source": [
        "Предположим, что вы прочитали в газете, что средний размер депозита составляет 306 тысяч рублей и с помощью выборочных данных, которые у вас есть, вы хотите это проверить."
      ]
    },
    {
      "cell_type": "markdown",
      "metadata": {
        "id": "g54OpD-50xB2"
      },
      "source": [
        "**Задание 2**. Сформулируйте нулевую и альтернативную гипотезы."
      ]
    },
    {
      "cell_type": "markdown",
      "metadata": {},
      "source": [
        "A0 - средний размер депозита составлсяет 306 тис\n",
        "А1 != А0"
      ]
    },
    {
      "cell_type": "markdown",
      "metadata": {
        "id": "VZseTsky1J9h"
      },
      "source": [
        "**Задание 3**. Вычислите p-value."
      ]
    },
    {
      "cell_type": "code",
      "execution_count": 6,
      "metadata": {
        "id": "ExrT05bM-C1v"
      },
      "outputs": [
        {
          "data": {
            "text/plain": [
              "np.float64(0.12655929855053344)"
            ]
          },
          "execution_count": 6,
          "metadata": {},
          "output_type": "execute_result"
        }
      ],
      "source": [
        "import scipy.stats as st\n",
        "\n",
        "t_statistic, p_value = st.ttest_1samp(deposits, 306)\n",
        "p_value"
      ]
    },
    {
      "cell_type": "markdown",
      "metadata": {
        "id": "46QvlL4A1P3V"
      },
      "source": [
        "**Задание 4**. При пороговом значении в 10%, сделайте вывод о возможности либо невозможности отвергнуть нулевую гипотезу."
      ]
    },
    {
      "cell_type": "code",
      "execution_count": 5,
      "metadata": {
        "id": "s4h9qMdx-Mw1"
      },
      "outputs": [
        {
          "name": "stdout",
          "output_type": "stream",
          "text": [
            "Yes\n"
          ]
        }
      ],
      "source": [
        "if p_value > 0.10:\n",
        "    print(\"Yes\")\n"
      ]
    },
    {
      "cell_type": "markdown",
      "metadata": {
        "id": "7sJT8iDJKeAK"
      },
      "source": [
        "### Дополнительные материалы"
      ]
    },
    {
      "cell_type": "markdown",
      "metadata": {
        "id": "IFy-1GJeRLVr"
      },
      "source": [
        "Экспоненциальная запись"
      ]
    },
    {
      "cell_type": "code",
      "execution_count": null,
      "metadata": {
        "colab": {
          "base_uri": "https://localhost:8080/"
        },
        "id": "JpFlNWUw95My",
        "outputId": "3a6dd903-191f-4d35-ac57-190a5aedd95d"
      },
      "outputs": [
        {
          "data": {
            "text/plain": [
              "9.035492171563733e-09"
            ]
          },
          "execution_count": 9,
          "metadata": {},
          "output_type": "execute_result"
        }
      ],
      "source": [
        "9.035492171563733 * 10**(-9)"
      ]
    },
    {
      "cell_type": "markdown",
      "metadata": {
        "id": "lWdu1JDURXK7"
      },
      "source": [
        "Распределение Стьюдента"
      ]
    },
    {
      "cell_type": "code",
      "execution_count": null,
      "metadata": {
        "colab": {
          "base_uri": "https://localhost:8080/",
          "height": 397
        },
        "id": "KQahD1p1H4F_",
        "outputId": "30cffed0-5cbd-43ce-930e-d62cbe88a0e2"
      },
      "outputs": [
        {
          "data": {
            "image/png": "[encoded data removed]",
            "text/plain": [
              "<Figure size 1000x600 with 1 Axes>"
            ]
          },
          "metadata": {},
          "output_type": "display_data"
        }
      ],
      "source": [
        "import matplotlib.pyplot as plt\n",
        "from scipy.stats import t\n",
        "\n",
        "# зададим размер графика\n",
        "plt.figure(figsize = (10,6))\n",
        "\n",
        "# зададим распределение Стьюдента с 999 степенями свободы\n",
        "x = np.linspace(-6, 6, 1000)\n",
        "f = t.pdf(x, len(height) - 1)\n",
        "\n",
        "# построим график\n",
        "plt.plot(x, f)\n",
        "plt.show()"
      ]
    },
    {
      "cell_type": "code",
      "execution_count": null,
      "metadata": {
        "colab": {
          "base_uri": "https://localhost:8080/"
        },
        "id": "GYAdFzRmJVzD",
        "outputId": "9584210f-b031-46f6-a972-49026047e719"
      },
      "outputs": [
        {
          "data": {
            "text/plain": [
              "9.035492171563733e-09"
            ]
          },
          "execution_count": 11,
          "metadata": {},
          "output_type": "execute_result"
        }
      ],
      "source": [
        "# рассчитаем площадь слева от -5.797229652505048 и справа от 5.797229652505048\n",
        "t.cdf(x = t_statistic, df = len(height) - 1) * 2"
      ]
    },
    {
      "cell_type": "markdown",
      "metadata": {
        "id": "sZUPdPcqRae-"
      },
      "source": [
        "Расчет моды"
      ]
    },
    {
      "cell_type": "code",
      "execution_count": null,
      "metadata": {
        "colab": {
          "base_uri": "https://localhost:8080/"
        },
        "id": "tqqZyhXvI351",
        "outputId": "0500a463-bfbb-4144-d99b-0cc2273e2883"
      },
      "outputs": [
        {
          "data": {
            "text/plain": [
              "[(182.0, 50), (175.0, 46), (180.0, 45), (183.0, 44), (186.0, 40), (178.0, 39)]"
            ]
          },
          "execution_count": 12,
          "metadata": {},
          "output_type": "execute_result"
        }
      ],
      "source": [
        "# импортируем класс Counter\n",
        "from collections import Counter\n",
        "\n",
        "# создадим объект этого класса, передав ему список с данными о росте\n",
        "bow = Counter(height)\n",
        "\n",
        "# выведем шесть наиболее часто встречающихся значений с помощью метода .most_common()\n",
        "bow.most_common(6)"
      ]
    },
    {
      "cell_type": "code",
      "execution_count": null,
      "metadata": {
        "colab": {
          "base_uri": "https://localhost:8080/"
        },
        "id": "iy5HjW6eKwvZ",
        "outputId": "415fb369-68d1-465c-885f-b31748052dc2"
      },
      "outputs": [
        {
          "data": {
            "text/plain": [
              "182.0"
            ]
          },
          "execution_count": 13,
          "metadata": {},
          "output_type": "execute_result"
        }
      ],
      "source": [
        "# рассчитаем моду с помощью функции mode()\n",
        "from statistics import mode\n",
        "mode(height)"
      ]
    }
  ],
  "metadata": {
    "colab": {
      "provenance": [],
      "toc_visible": true
    },
    "kernelspec": {
      "display_name": "Python 3",
      "name": "python3"
    },
    "language_info": {
      "codemirror_mode": {
        "name": "ipython",
        "version": 3
      },
      "file_extension": ".py",
      "mimetype": "text/x-python",
      "name": "python",
      "nbconvert_exporter": "python",
      "pygments_lexer": "ipython3",
      "version": "3.11.9"
    }
  },
  "nbformat": 4,
  "nbformat_minor": 0
}
