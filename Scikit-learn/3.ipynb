{
 "cells": [
  {
   "cell_type": "code",
   "execution_count": null,
   "metadata": {},
   "outputs": [],
   "source": [
    "import numpy as np\n",
    "\n",
    "np.random.seed(42)\n",
    "height = np.round(np.random.normal(180,10,1000)) # выборка\n",
    "height"
   ]
  },
  {
   "cell_type": "code",
   "execution_count": 44,
   "metadata": {},
   "outputs": [
    {
     "data": {
      "text/plain": [
       "np.float64(180.201)"
      ]
     },
     "execution_count": 44,
     "metadata": {},
     "output_type": "execute_result"
    }
   ],
   "source": [
    "import statistics as stat\n",
    "\n",
    "stat.mean(height)"
   ]
  },
  {
   "cell_type": "markdown",
   "metadata": {},
   "source": [
    "Какова вероятность получить среднее выборки 180.2 см,\n",
    "При условии истинное среднее генеральной совокупности действительно равно 182 см"
   ]
  },
  {
   "cell_type": "code",
   "execution_count": 42,
   "metadata": {},
   "outputs": [
    {
     "name": "stdout",
     "output_type": "stream",
     "text": [
      "9.035492171563735e-09\n"
     ]
    }
   ],
   "source": [
    "import scipy.stats as st\n",
    "\n",
    "t_statistic, p_valeu = st.ttest_1samp(height,182)\n",
    "t_statistic\n",
    "print(p_valeu)"
   ]
  },
  {
   "cell_type": "code",
   "execution_count": 43,
   "metadata": {},
   "outputs": [
    {
     "name": "stdout",
     "output_type": "stream",
     "text": [
      "Есть основания отвергнуть нулевую гипотезу\n"
     ]
    }
   ],
   "source": [
    "if p_valeu < 0.05: # пороговое значение 5% \n",
    "    print(\"Есть основания отвергнуть нулевую гипотезу\") \n",
    "else: \n",
    "    print(\"Нет оснований отвергнуть нулевую гипотезу\")"
   ]
  },
  {
   "cell_type": "markdown",
   "metadata": {},
   "source": [
    "Доверительный интервал в 90% случаев показывает в каких рамках может быть истинное среднее генеральной совокупности, с таким средним выборки.\n",
    "\n"
   ]
  },
  {
   "cell_type": "code",
   "execution_count": 56,
   "metadata": {},
   "outputs": [
    {
     "name": "stdout",
     "output_type": "stream",
     "text": [
      "(np.float64(179.69), np.float64(180.71))\n"
     ]
    }
   ],
   "source": [
    "ci = st.norm.interval(confidence=0.90, loc=np.mean(height), scale=st.sem(height))\n",
    "\n",
    "print((round(ci[0], 2), round(ci[1], 2)))"
   ]
  }
 ],
 "metadata": {
  "kernelspec": {
   "display_name": "Python 3",
   "language": "python",
   "name": "python3"
  },
  "language_info": {
   "codemirror_mode": {
    "name": "ipython",
    "version": 3
   },
   "file_extension": ".py",
   "mimetype": "text/x-python",
   "name": "python",
   "nbconvert_exporter": "python",
   "pygments_lexer": "ipython3",
   "version": "3.11.9"
  }
 },
 "nbformat": 4,
 "nbformat_minor": 2
}
