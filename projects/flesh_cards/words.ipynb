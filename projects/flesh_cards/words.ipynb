{
 "cells": [
  {
   "cell_type": "code",
   "execution_count": null,
   "metadata": {},
   "outputs": [
    {
     "name": "stdout",
     "output_type": "stream",
     "text": [
      "18\n",
      "19\n"
     ]
    }
   ],
   "source": [
    "ukr_21 = ['задоволений', 'спантеличений', 'схвильований', 'ентузіаст', 'обережний', 'тривожний', 'емоційний зрив', 'наляканий', 'терплячий', 'нетерплячий', 'вдячний', 'веселий', 'везучий', 'настрій', 'отримати', 'перейти дорогу', 'терміновий дедлайн', 'впливати', 'псувати', 'пара', 'відчувати (усі форми)', 'завдання', 'уряд']\n",
    "eng_21 = ['pleased', 'confused', 'excited', 'enthusiastic', 'cautious', 'anxious', 'emotional breakdown', 'frightened', 'patient', 'impatient', 'grateful', 'cheerful', 'lucky', 'mood', 'to receive', 'to cross the road', 'urgent deadline', 'to influence', 'to spoil', 'couple', 'feel felt felt', 'assignment', 'government']\n",
    "\n",
    "ukr_22 = ['помітити', 'досвід', 'терпіння', 'винний', 'чесний', 'скоріше', 'обіймати', 'розгадати', 'загадковий', 'колега', 'алкоголь']\n",
    "eng_22 = ['to notice', 'experience', 'patience', 'guilty', 'honest', 'rather', 'hug', 'to puzzle', 'puzzling', 'colleague', 'alcohol']\n",
    "\n",
    "ukr_24 = ['dream', 'drink', 'eat', 'fall', 'fight', 'find', 'fly', 'get', 'give', 'go', 'grow', 'hang', 'have', 'hear', 'hide', 'hit', 'hurt', 'hold']\n",
    "eng_24 = ['dreamt dreamt', 'drank drunk', 'ate eaten', 'fell fallen', 'fought fought', 'found found', 'flew flown', 'got got', 'gave given', 'went gone', 'grew grown', 'hung hung', 'had had', 'heard heard', 'hid hidden', 'hit hit', 'hurt hurt', 'held held']\n",
    "\n",
    "ukr_25 = ['горище', 'визнати', 'запалювати ароматичну свічку', \"в'язання гачком\", \"в'язаня спицями\", 'пішов у запій серіалів', 'вирізати гарбуз', 'піти на осінній ярмарок', 'відвідати кукурудзяний лабіринт', 'вибір', 'кліщ', 'пекти', 'носити пухнасті шкарпетки', 'пиріг']\n",
    "eng_25 = ['attic', 'to admit', 'light a scented candle', 'crocheting', 'knitting', 'binge-watch', 'carve a pumpkin', 'go to a fall market', 'visit a corn maze', 'choice', 'mite=tick', 'to bake', 'wear fuzzy socks', 'pie']\n",
    "\n",
    "ukr_26 = ['затишний', 'будинок з привидами', 'тусити', 'заварити', 'смачний', 'шкідливий', 'тоді потім', 'через', 'цукерки або смерть', 'марна трата часу', 'вчений', 'Джек-ліхтар']\n",
    "eng_26 = ['cozy', 'haunted house', 'to hang out', 'to brew', 'delicious', 'harmful', 'then', 'because of', 'trick-or-treating', 'waste of time', 'scientist', \"Jack-o'-lantern-\"]\n",
    "\n",
    "ukr_27 = ['keep', 'know', 'lead', 'learn', 'leave', 'light', 'lose', 'make', 'meet', 'put', 'read', 'ride', 'rise', 'run', 'see']\n",
    "eng_27 = ['kept kept', 'knew known', 'led led', 'learnt learnt', 'left left', 'lit lit', 'lost lost', 'made made', 'met met', 'put put', 'read read', 'rode ridden', 'rose risen', 'ran run', 'saw seen']\n",
    "\n",
    "ukr_29 = ['ковтати', 'у чому справа', 'сніжинка', 'веселка', \"пов'язаний з\", 'вести', 'ловити', 'раптово']\n",
    "eng_29 = ['swallow', \"what's the matter?\", 'snowflake', 'rainbow', 'related to', 'lead led led', 'catch caught caught', 'suddenly']\n",
    "\n",
    "ukr_30 = ['send', 'sell', 'shine', 'shut', 'sing', 'speak', 'spend', 'stand', 'swim', 'take', 'tell', 'teach', 'think', 'throw', 'understand', 'wear', 'win', 'write']\n",
    "eng_30 = ['sent sent', 'sold sold', 'shone shone', 'shut shut', 'sang sung', 'spoke spoken', 'spent spent', 'stood stood', 'swam swum', 'took taken', 'told told', 'taught taught', 'thought thought', 'threw thrown', 'understood understood', 'wore worn', 'won won', 'wrote written']\n",
    "\n",
    "\n",
    "\n",
    "\n"
   ]
  },
  {
   "cell_type": "code",
   "execution_count": 14,
   "metadata": {},
   "outputs": [
    {
     "name": "stdout",
     "output_type": "stream",
     "text": [
      "['ковтати', 'у чому справа', 'сніжинка', 'веселка', \"пов'язаний з\", 'вести', 'catch', 'раптово']\n",
      "8\n"
     ]
    }
   ],
   "source": [
    "a = \"ковтати,у чому справа,сніжинка,веселка,пов'язаний з,вести,catch,раптово\"\n",
    "a = a.split(',')\n",
    "\n",
    "print(a)\n",
    "print(len(a))"
   ]
  },
  {
   "cell_type": "code",
   "execution_count": 9,
   "metadata": {},
   "outputs": [
    {
     "name": "stdout",
     "output_type": "stream",
     "text": [
      "['sent sent', 'sold sold', 'shone shone', 'shut shut', 'sang sung', 'spoke spoken', 'spent spent', 'stood stood', 'swam swum', 'took taken', 'told told', 'taught taught', 'thought thought', 'threw thrown', 'understood understood', 'wore worn', 'won won', 'wrote written']\n",
      "18\n"
     ]
    }
   ],
   "source": [
    "a = \"sent, sent;sold, sold;shone, shone;shut, shut;sang, sung;spoke, spoken;spent, spent;stood, stood;swam, swum;took, taken;told, told;taught, taught;thought, thought;threw, thrown;understood, understood;wore, worn;won, won;wrote, written\"\n",
    "\n",
    "a = a.replace(',','')\n",
    "a = a.split(';')\n",
    "\n",
    "print(a)\n",
    "print(len(a))"
   ]
  }
 ],
 "metadata": {
  "kernelspec": {
   "display_name": "Python 3",
   "language": "python",
   "name": "python3"
  },
  "language_info": {
   "codemirror_mode": {
    "name": "ipython",
    "version": 3
   },
   "file_extension": ".py",
   "mimetype": "text/x-python",
   "name": "python",
   "nbconvert_exporter": "python",
   "pygments_lexer": "ipython3",
   "version": "3.12.7"
  }
 },
 "nbformat": 4,
 "nbformat_minor": 2
}
