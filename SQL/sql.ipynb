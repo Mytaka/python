{
 "cells": [
  {
   "cell_type": "markdown",
   "metadata": {},
   "source": [
    "c.execute(''' CREATE TABLE test(       # test - создал таблицу test\n",
    "          title text,                  # title - поле в таблице, text - формат данных в таблице\n",
    "          full_text text,\n",
    "          views integer,\n",
    "          autor text,\n",
    ")''')"
   ]
  },
  {
   "cell_type": "code",
   "execution_count": 1,
   "metadata": {},
   "outputs": [],
   "source": [
    "import sqlite3 as sq\n",
    "\n",
    "db = sq.connect('data_base.db')\n",
    "\n",
    "c = db.cursor()\n",
    "\n",
    "c.execute('''CREATE TABLE IF NOT EXISTS test (\n",
    "          title TEXT,      \n",
    "          full_text TEXT,\n",
    "          views INTEGER,\n",
    "          autor TEXT\n",
    ")''')\n",
    "\n",
    "# df.to_sql('results', db, if_exists='append', index=True)\n",
    "# c.execute('INSERT INTO results VALUES (?),(?)', (ukr[1],ukr[3],))\n",
    "# c.execute(\"INSERT INTO test VALUES ('Facebook is not cool', 'near Facebook', '100','Admin')\") # добавить в таблицу значения\n",
    "\n",
    "# c.execute(\"SELECT rowid, * FROM test WHERE rowid = 2 ORDER BY rowid DESC\") # * - означает что мы вытягиваем все поля, но можно и просто title,views ...\n",
    "                                                                             # rowid - добавляет уникальный аунтификатор для каждой записи\n",
    "                                                                             # ( WHERE поле, условие ), где знак неравенстава <>\n",
    "                                                                             # ( ORDER BY поле/условие ) , где DESC - наоборот\n",
    "\n",
    "                                                         \n",
    "# c.fetchall()    # возвращает списов со всеми записями выборки\n",
    "# c.fetchmany(1)  # c.fetchmany(a), где а это уникальный аунтификатор \n",
    "# c.fetchone()    # возвращает картеж с первой записью выборки\n",
    "# c.fetchone()[1] # возвращает сразу title\n",
    "\n",
    "# c.execute('DELETE FROM test') # удалить таблицу\n",
    "# c.execute('DELETE FROM test WHERE rowid < 10') \n",
    "\n",
    "\n",
    "\n",
    "# c.execute(\"UPDATE test SET autor = 'Mytka', views = '1000' WHERE title = 'Facebook is not cool' \")\n",
    "\n",
    "db.commit() # сохраняю изменения\n",
    "\n",
    "db.close()"
   ]
  }
 ],
 "metadata": {
  "kernelspec": {
   "display_name": "Python 3",
   "language": "python",
   "name": "python3"
  },
  "language_info": {
   "codemirror_mode": {
    "name": "ipython",
    "version": 3
   },
   "file_extension": ".py",
   "mimetype": "text/x-python",
   "name": "python",
   "nbconvert_exporter": "python",
   "pygments_lexer": "ipython3",
   "version": "3.11.9"
  }
 },
 "nbformat": 4,
 "nbformat_minor": 2
}
