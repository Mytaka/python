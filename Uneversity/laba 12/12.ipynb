{
 "cells": [
  {
   "cell_type": "markdown",
   "metadata": {},
   "source": [
    "Завдання 1:\n",
    "Написати програму, яка перевіряє скільки разів елемент повторюється в кортежі\n"
   ]
  },
  {
   "cell_type": "code",
   "execution_count": 31,
   "metadata": {},
   "outputs": [
    {
     "name": "stdout",
     "output_type": "stream",
     "text": [
      "{1: 4, 3: 1, 2: 3, 5: 2}\n"
     ]
    }
   ],
   "source": [
    "import random \n",
    "\n",
    "random.seed(42)\n",
    "\n",
    "tup = tuple(random.randint(1,5) for _ in range(10))\n",
    "\n",
    "dict = {}\n",
    "for i in tup:\n",
    "     dict.update({i: tup.count(i)})\n",
    "     \n",
    "print(dict)"
   ]
  },
  {
   "cell_type": "markdown",
   "metadata": {},
   "source": [
    "Завдання 2:\n",
    "Написати програму, яка для заданого кортежу на запит користувача виводить індекс елементу в кортежі.\n"
   ]
  },
  {
   "cell_type": "code",
   "execution_count": 32,
   "metadata": {},
   "outputs": [
    {
     "name": "stdout",
     "output_type": "stream",
     "text": [
      "1\n"
     ]
    }
   ],
   "source": [
    "tup = ('hello','nikita','barri')\n",
    "\n",
    "user = input('What do you find? ')\n",
    "\n",
    "if user in tup:\n",
    "    print(tup.index(user))\n",
    "else: \n",
    "    print('Do not find')"
   ]
  },
  {
   "cell_type": "markdown",
   "metadata": {},
   "source": [
    "Завдання 3:\n",
    "Написати програму, яка для заданого кортежу виводить новий кортеж, що містить перший і останній елемент попередньо\n"
   ]
  },
  {
   "cell_type": "code",
   "execution_count": 49,
   "metadata": {},
   "outputs": [
    {
     "name": "stdout",
     "output_type": "stream",
     "text": [
      "(1, 5)\n"
     ]
    }
   ],
   "source": [
    "import random \n",
    "\n",
    "random.seed(42)\n",
    "\n",
    "tup = tuple(random.randint(1,5) for _ in range(10))\n",
    "new_tup = ((tup[0]),tup[-1])\n",
    "\n",
    "print(new_tup)"
   ]
  },
  {
   "cell_type": "markdown",
   "metadata": {},
   "source": [
    "Завдання 4:\n",
    "Написати програму, яка перевіряє чи всі елементи кортежу однакові та повідомляє про це користувачу.\n"
   ]
  },
  {
   "cell_type": "code",
   "execution_count": 54,
   "metadata": {},
   "outputs": [
    {
     "name": "stdout",
     "output_type": "stream",
     "text": [
      "Не всі однакові\n"
     ]
    }
   ],
   "source": [
    "import random \n",
    "\n",
    "random.seed(42)\n",
    "\n",
    "tup = tuple(random.randint(1,5) for _ in range(10))\n",
    "# tup = (1,1,1)\n",
    "\n",
    "if tup.count(tup[0]) == len(tup):\n",
    "    print('Всі елементи однакові')\n",
    "    \n",
    "else:\n",
    "    print('Не всі однакові')"
   ]
  },
  {
   "cell_type": "markdown",
   "metadata": {},
   "source": [
    "Завдання 5:\n",
    "Написати програму, яка знаходить суму всіх числових елементів змішаного кортежу, якщо текстовий елемент кортежу можна перевести в число, програма здійснює це перетворення і додає елемент до загальної суми числових значень кортежу.\n"
   ]
  },
  {
   "cell_type": "code",
   "execution_count": 67,
   "metadata": {},
   "outputs": [
    {
     "name": "stdout",
     "output_type": "stream",
     "text": [
      "60\n"
     ]
    }
   ],
   "source": [
    "def sum_numeric(*args):\n",
    "\n",
    "    summa = sum(int(i) for i in args if str(i).isdigit())\n",
    "    print(summa)\n",
    "\n",
    "\n",
    "sum_numeric(10, 20, 'a', '30', 'bcd')"
   ]
  },
  {
   "cell_type": "markdown",
   "metadata": {},
   "source": [
    "Завдання 6:\n",
    "Написати програму, яка змінює останню цифру на цифру введену користувачем в усіх вкладених кортежах заданого списку.\n"
   ]
  },
  {
   "cell_type": "code",
   "execution_count": 94,
   "metadata": {},
   "outputs": [
    {
     "name": "stdout",
     "output_type": "stream",
     "text": [
      "[(10, 20, 100), (40, 50, 100), (70, 80, 100)]\n"
     ]
    }
   ],
   "source": [
    "user = 100 #int(input('Write any number: '))\n",
    "\n",
    "list = [(10, 20, 40), (40, 50, 60), (70, 80, 90)]\n",
    "\n",
    "list = [ (i[:2] + (user,)) for i in list ]\n",
    "\n",
    "print(list)"
   ]
  },
  {
   "cell_type": "markdown",
   "metadata": {},
   "source": [
    "Завдання 7:\n",
    "Відкрийте файл mbox-short.txt і прочитайте його рядок за рядком. Коли ви знайдете рядок, який починається словом 'From', як наведено нижче :\n"
   ]
  },
  {
   "cell_type": "code",
   "execution_count": 40,
   "metadata": {},
   "outputs": [
    {
     "name": "stdout",
     "output_type": "stream",
     "text": [
      "09 2\n",
      "18 1\n",
      "16 4\n",
      "15 2\n",
      "15 2\n",
      "14 1\n",
      "11 6\n",
      "11 6\n",
      "11 6\n",
      "11 6\n",
      "11 6\n",
      "11 6\n",
      "10 3\n",
      "10 3\n",
      "10 3\n",
      "09 2\n",
      "07 1\n",
      "06 1\n",
      "04 3\n",
      "04 3\n",
      "04 3\n",
      "19 1\n",
      "17 2\n",
      "17 2\n",
      "16 4\n",
      "16 4\n",
      "16 4\n"
     ]
    }
   ],
   "source": [
    "fname = input(\"Enter file name: \")\n",
    "if len(fname) < 1 : fname = \"mbox-short.txt\"\n",
    "\n",
    "with open(f'{fname}', 'r') as file:\n",
    "    lines = file.readlines()\n",
    "\n",
    "time = []\n",
    "for i in lines:\n",
    "    if i.startswith('From') and len( i.split(' ') ) > 2:\n",
    "        time.append( i.split(' ')[6][:2] )\n",
    "\n",
    "for i in time:\n",
    "     i = str(i)\n",
    "     print(i, time.count(i))"
   ]
  },
  {
   "cell_type": "markdown",
   "metadata": {},
   "source": [
    "Завдання 8*\n",
    "Є чотирикутна схема польотів дронів з координатами (0, 1, 2, 3). У нас є словник points, ключі якого — кортежі, точки польоту між координатами чотирикутника, вигляду (1, 2). Значення словника — це відстані між вказаними точками.\n"
   ]
  },
  {
   "cell_type": "code",
   "execution_count": 76,
   "metadata": {},
   "outputs": [
    {
     "name": "stdout",
     "output_type": "stream",
     "text": [
      "Відстань:  13.8\n"
     ]
    }
   ],
   "source": [
    "points = {(0, 1): 2, (0, 2): 3.8, (0, 3): 2.7, (1, 2): 2.5, (1, 3): 4.1, (2, 3): 3.9}\n",
    "way = [0, 1, 3, 2, 0]\n",
    "\n",
    "result = [ points.get((way[i], way[i+1])) or points.get((way[i+1], way[i]))\n",
    "           for i in range(len(way)-1) ]\n",
    "\n",
    "print('Відстань: ',sum(result))\n",
    "\n",
    "\n"
   ]
  }
 ],
 "metadata": {
  "kernelspec": {
   "display_name": "Python 3",
   "language": "python",
   "name": "python3"
  },
  "language_info": {
   "codemirror_mode": {
    "name": "ipython",
    "version": 3
   },
   "file_extension": ".py",
   "mimetype": "text/x-python",
   "name": "python",
   "nbconvert_exporter": "python",
   "pygments_lexer": "ipython3",
   "version": "3.11.9"
  }
 },
 "nbformat": 4,
 "nbformat_minor": 2
}
