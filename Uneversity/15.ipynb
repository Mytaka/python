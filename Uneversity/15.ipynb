{
 "cells": [
  {
   "cell_type": "markdown",
   "metadata": {},
   "source": [
    "Завдання 1:\n",
    "Напишіть лябмда функцію, яка до числа а додає 10 і повертає результат."
   ]
  },
  {
   "cell_type": "code",
   "execution_count": 1,
   "metadata": {},
   "outputs": [
    {
     "name": "stdout",
     "output_type": "stream",
     "text": [
      "20\n"
     ]
    }
   ],
   "source": [
    "summa = lambda number: number + 10\n",
    "\n",
    "print(summa(10))"
   ]
  },
  {
   "cell_type": "markdown",
   "metadata": {},
   "source": [
    "Завдання 2:\n",
    "Напишіть лябмда функцію, яка знаходить добуток трьох чисел і виводить  результат. \n"
   ]
  },
  {
   "cell_type": "code",
   "execution_count": 5,
   "metadata": {},
   "outputs": [
    {
     "name": "stdout",
     "output_type": "stream",
     "text": [
      "120\n"
     ]
    }
   ],
   "source": [
    "import math\n",
    "\n",
    "prod = lambda *args: math.prod(args)\n",
    "\n",
    "print(prod(1,2,3,4,5))"
   ]
  },
  {
   "cell_type": "markdown",
   "metadata": {},
   "source": [
    "Завдання 3:\n",
    "Використовуючи лябмда-функцію заповніть пробіли, щоб отримати відповідні результати для функцій a,b,c,d,e,f,g,h,i,j,k,m,n,o,p,q,r,s,t,u,v:"
   ]
  },
  {
   "cell_type": "code",
   "execution_count": null,
   "metadata": {},
   "outputs": [],
   "source": [
    "a = lambda: 2\n",
    "b = lambda num: 1\n",
    "c = lambda num: num\n",
    "d = lambda *args: sum(args)\n",
    "e = lambda *args: max(args)\n",
    "f = lambda *args:  str(args[-1]) + str(args[0])\n",
    "g = lambda x: lambda y: str(x) + str(y)\n",
    "h = lambda: lambda num: num + 5\n",
    "i = lambda *args: lambda num: args[0] + num\n",
    "j = lambda func: lambda x: func(x)\n",
    "k = lambda k: k+1 \n",
    "m = lambda m: 5\n",
    "n = lambda: None\n",
    "o = lambda word: word\n",
    "p = lambda p1,p2: lambda p3: p1(p3) + p2(p3) - p3\n",
    "q = lambda word1: lambda word2: word2() + ' ' + word1\n",
    "r = lambda x,y: lambda new_year: x//y() + new_year()\n",
    "s = lambda k: k(lambda: lambda cal: cal)\n",
    "def t(a):\n",
    "    return lambda b: 'arc' + a+b\n",
    "def u(word): # use t!\n",
    "    return t('co')(word)\n",
    "def v():\n",
    "   return 'arccosecant'\n",
    "\n",
    "print(a())\n",
    "print(b(3))\n",
    "print(b(10))\n",
    "print(b(2))\n",
    "print(c(1))\n",
    "print(c(3))\n",
    "print(d(1,3))\n",
    "print(d(2,5))\n",
    "print(e(1,3))\n",
    "print(e(2,5))\n",
    "print(f(2, 5))\n",
    "print(f(3,1))\n",
    "print(g(1)(2))\n",
    "print(g(2)(1))\n",
    "print(h()(2))\n",
    "print(h()(3))\n",
    "print(i(2,5)(2))\n",
    "print(i(3,5)(2))\n",
    "print(j(lambda x:2)(1))\n",
    "print(j(lambda x: x + 1)(1))\n",
    "print((lambda x: x(2))(k))\n",
    "print((lambda x: lambda y: x(y())) (m)(n))\n",
    "print(o('cal'))\n",
    "print(p(lambda x: x + 2, lambda x: x + 3)(1))\n",
    "print(q('veggies')(lambda: 'eat'))\n",
    "happy = r(30, lambda: new_year() // 1000)\n",
    "new_year = (lambda x: lambda: x)(2000)\n",
    "happy(new_year)\n",
    "print(s( lambda x: x()('cal') ))\n",
    "print(t('ta')('n'))\n",
    "print(u('sine'))\n",
    "print(v())"
   ]
  },
  {
   "cell_type": "markdown",
   "metadata": {},
   "source": [
    "Завдання 4:\n",
    "За допомогою функції лябмда знайдіть квадрати чисел в запропонованому списку.\n"
   ]
  },
  {
   "cell_type": "code",
   "execution_count": null,
   "metadata": {},
   "outputs": [
    {
     "name": "stdout",
     "output_type": "stream",
     "text": [
      "[100, 4, 64, 49, 25, 16, 9, 121, 0, 1]\n"
     ]
    }
   ],
   "source": [
    "square = lambda arr: [i**2  for i in arr] \n",
    "\n",
    "a = [10,2,8,7,5,4,3,11,0,1]\n",
    "\n",
    "print(square(a))"
   ]
  },
  {
   "cell_type": "markdown",
   "metadata": {},
   "source": [
    "Завдання 5:\n",
    "За допомогою функції лябмда знайдіть добуток усіх чисел в запропонованому списку a.\n",
    "a = [10,2,8,7,5,4,3,11,0, 1]\n"
   ]
  },
  {
   "cell_type": "code",
   "execution_count": 11,
   "metadata": {},
   "outputs": [
    {
     "name": "stdout",
     "output_type": "stream",
     "text": [
      "0\n"
     ]
    }
   ],
   "source": [
    "from math import prod\n",
    "\n",
    "product = lambda arr: prod(arr)\n",
    "\n",
    "a = [10,2,8,7,5,4,3,11,0,1]\n",
    "\n",
    "print(product(a))"
   ]
  },
  {
   "cell_type": "markdown",
   "metadata": {},
   "source": [
    "Завдання 6:\n",
    "Напишіть програму, яка за допомогою функції sorted(), параметра reverse та функції lambdа сортує кортеж в списку на основі останнього символу другого елементу в оберненому порядку. (Підказка – x[1][-1] останній символ другого елементу).\n"
   ]
  },
  {
   "cell_type": "code",
   "execution_count": 18,
   "metadata": {},
   "outputs": [
    {
     "name": "stdout",
     "output_type": "stream",
     "text": [
      "[(626299, 'Vermont'), (19542209, 'New York'), (1420491, 'Hawaii'), (4887871, 'Alabama'), (1805832, 'West Virginia'), (39865590, 'California')]\n"
     ]
    }
   ],
   "source": [
    "lst=[(19542209, \"New York\") ,(4887871, \"Alabama\"), (1420491, \"Hawaii\"), (626299, \"Vermont\"), (1805832, \"West Virginia\"), (39865590, \"California\")]\n",
    "\n",
    "lst = sorted(lst, key=lambda x: x[1][-1], reverse=True)\n",
    "\n",
    "print(lst)"
   ]
  },
  {
   "cell_type": "code",
   "execution_count": null,
   "metadata": {},
   "outputs": [],
   "source": [
    "lst=[(19542209, \"New York\") ,(4887871, \"Alabama\"), (1420491, \"Hawaii\"), (626299, \"Vermont\"), (1805832, \"West Virginia\"), (39865590, \"California\")]"
   ]
  }
 ],
 "metadata": {
  "kernelspec": {
   "display_name": "Python 3",
   "language": "python",
   "name": "python3"
  },
  "language_info": {
   "codemirror_mode": {
    "name": "ipython",
    "version": 3
   },
   "file_extension": ".py",
   "mimetype": "text/x-python",
   "name": "python",
   "nbconvert_exporter": "python",
   "pygments_lexer": "ipython3",
   "version": "3.11.9"
  }
 },
 "nbformat": 4,
 "nbformat_minor": 2
}
