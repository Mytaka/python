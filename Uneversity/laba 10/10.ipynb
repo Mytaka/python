{
 "cells": [
  {
   "cell_type": "markdown",
   "metadata": {},
   "source": [
    "Завдання 1: \n",
    "Розробити словник, що містить три великі річки  та країни, якими вони протікають у форматі ключ-значення: river:country. Вивести за допомого циклу на екран по одному реченню про кожну річку: Річка «river» протікає через «country».\n"
   ]
  },
  {
   "cell_type": "code",
   "execution_count": 8,
   "metadata": {},
   "outputs": [
    {
     "name": "stdout",
     "output_type": "stream",
     "text": [
      "{'river_1': 'country_1', 'river_2': 'country_2', 'river_3': 'country_3'}\n",
      "Річка river_1 протікає через country_1\n",
      "Річка river_2 протікає через country_2\n",
      "Річка river_3 протікає через country_3\n"
     ]
    }
   ],
   "source": [
    "dict = {f'river_{i}': f'country_{i}' for i in range(1,4)}\n",
    "print(dict)\n",
    "\n",
    "for river, country in dict.items():\n",
    "    print(f'Річка {river} протікає через {country}')"
   ]
  },
  {
   "cell_type": "markdown",
   "metadata": {},
   "source": [
    "Завдання 2:\n",
    "Написати програму, яка перевіряє, чи існує уведений користувачем ключ у словнику.\n"
   ]
  },
  {
   "cell_type": "code",
   "execution_count": 1,
   "metadata": {},
   "outputs": [
    {
     "name": "stdout",
     "output_type": "stream",
     "text": [
      "True\n"
     ]
    }
   ],
   "source": [
    "dict = {f'river_{i}': f'country_{i}' for i in range(1,4)}\n",
    "\n",
    "user = input('Print youe key: ') # river_1\n",
    "\n",
    "if user in dict.keys():\n",
    "    print(True)\n"
   ]
  },
  {
   "cell_type": "markdown",
   "metadata": {},
   "source": [
    "Завдання 3:\n",
    "Знайти три ключі з найбільшими значеннями в словнику: \n",
    "my_dict = {'a':500, 'b':5874, 'c': 560,'d':400, 'e':5874, 'f': 20}.\n"
   ]
  },
  {
   "cell_type": "code",
   "execution_count": 10,
   "metadata": {},
   "outputs": [
    {
     "name": "stdout",
     "output_type": "stream",
     "text": [
      "[560, 5874, 5874]\n"
     ]
    }
   ],
   "source": [
    "my_dict = {'a':500, 'b':5874, 'c': 560,'d':400, 'e':5874, 'f': 20}\n",
    "\n",
    "arr = list(my_dict.values())\n",
    "\n",
    "arr.sort()\n",
    "print(arr[-3:])"
   ]
  },
  {
   "cell_type": "markdown",
   "metadata": {},
   "source": [
    "Завдання 4:\n",
    "Написати програму, яка створює словник, що в якості ключа містить числа (від 1 до n), а у якості значень квадрат цього числа.\n"
   ]
  },
  {
   "cell_type": "code",
   "execution_count": 46,
   "metadata": {},
   "outputs": [
    {
     "name": "stdout",
     "output_type": "stream",
     "text": [
      "{1: 1, 2: 4, 3: 9, 4: 16, 5: 25}\n"
     ]
    }
   ],
   "source": [
    "n = int(input('Print any number: ')) + 1\n",
    "dict = {i: i**2 for i in range(1,n)}\n",
    "print(dict)"
   ]
  },
  {
   "cell_type": "markdown",
   "metadata": {},
   "source": [
    "\n",
    "Завдання 5:\n",
    "Відкрийте файл mbox-short.txt і прочитайте його рядок за рядком. Коли знайдете рядок, який починається словом 'From', як наведено нижче :\n",
    "From stephen.marquard@uct.ac.za Sat Jan  5 09:14:16 2008 \n",
    "\n"
   ]
  },
  {
   "cell_type": "code",
   "execution_count": 8,
   "metadata": {},
   "outputs": [
    {
     "name": "stdout",
     "output_type": "stream",
     "text": [
      "cwen@iupui.edu 5\n"
     ]
    }
   ],
   "source": [
    "def to_dict(gmail,count):\n",
    "    return {gmail : count}\n",
    "\n",
    "\n",
    "fname = input(\"Enter file name: \")\n",
    "if len(fname) < 1 : fname = \"mbox-short.txt\"\n",
    "\n",
    "with open(f'{fname}', 'r') as file:\n",
    "    lines = file.readlines()\n",
    "\n",
    "gmails = []\n",
    "for i in lines:\n",
    "    if i.startswith('From'):\n",
    "        gmails.append( i.split(' ')[1] )\n",
    "\n",
    "dict = {}\n",
    "for i in gmails:\n",
    "    count = gmails.count(f'{i}')\n",
    "    dict.update(to_dict(i,count))\n",
    "\n",
    "max_key = max(dict, key=dict.get)\n",
    "print(max_key, dict[max_key])"
   ]
  },
  {
   "cell_type": "markdown",
   "metadata": {},
   "source": [
    "Завдання 6*: Ви створюєте гру, структура даних для інвентаря гравця – словник. В якому ключі – рядкові величини, що описують інвентар, а значення – кількість одиниць даного інвентаря"
   ]
  },
  {
   "cell_type": "code",
   "execution_count": 5,
   "metadata": {},
   "outputs": [
    {
     "name": "stdout",
     "output_type": "stream",
     "text": [
      "Inventory:\n",
      "1 rope\n",
      "6 torch\n",
      "42 gold coin\n",
      "1 dagger\n",
      "12 arrow\n",
      "4 knife\n",
      "Total number of items: 66\n",
      "4 knife\n"
     ]
    }
   ],
   "source": [
    "inventory = {'rope': 1,\n",
    "             'torch': 6,\n",
    "             'gold coin': 42,\n",
    "             'dagger': 1,\n",
    "             'arrow': 12\n",
    "             }\n",
    "\n",
    "user = input('Додавання предметів(1) | Видалення предметів(2) | Виведення даних(3) | Перевірка наявності предметів(4)')\n",
    "while True:\n",
    "    if user == '-':\n",
    "        break\n",
    "\n",
    "    match user:\n",
    "        case '1':\n",
    "\n",
    "            item = input('What item you would to add? ')\n",
    "            count_item = int(input('How many items do you want to add? '))\n",
    "\n",
    "            if item not in inventory.keys():\n",
    "                inventory.update({item : count_item})\n",
    "            else:\n",
    "                inventory[item] += count_item\n",
    "\n",
    "        case '2':\n",
    "\n",
    "            item = input('What item you would to delete? ')\n",
    "            count_item = int(input('How many items do you want to delete? '))\n",
    "\n",
    "            if item in inventory.keys():\n",
    "\n",
    "                if count_item <= inventory[item]:\n",
    "                    inventory[item] -= count_item\n",
    "                else:\n",
    "                    print('Please less your number:')\n",
    "\n",
    "            else:\n",
    "                print('Do not find item')\n",
    "            \n",
    "        case '3':\n",
    "\n",
    "            print('Inventory:')\n",
    "            for key,value in inventory.items():\n",
    "                print(f'{value} {key}')\n",
    "            print('Total number of items:', sum(inventory.values()))\n",
    "\n",
    "        case '4':\n",
    "\n",
    "            item = input('What item you would to fond? ')\n",
    "\n",
    "            if item in inventory.keys():\n",
    "                print(f'{inventory[item]} {item}')\n",
    "            else:\n",
    "                print('Do not find item')\n",
    "\n",
    "    user = input('Додавання предметів(1) Видалення предметів(2) Виведення даних(3) Перевірка наявності предметів(4)')\n",
    "    \n",
    "# rope | torch | gold coin | dagger | arrow"
   ]
  },
  {
   "cell_type": "markdown",
   "metadata": {},
   "source": [
    "Завдання 7:\n",
    "Напишіть програму, яка приймає словник з оцінками студентів (ім'я: оцінка) і повертає словник з підсумковими даними: кількість студентів, середня оцінка, найвища і найнижча оцінка.\n"
   ]
  },
  {
   "cell_type": "code",
   "execution_count": 42,
   "metadata": {},
   "outputs": [
    {
     "name": "stdout",
     "output_type": "stream",
     "text": [
      "{'кількість студентів': 10, 'середня оцінка': 63.4, 'найвища оцінка': 93, 'найнижча оцінка': 15}\n"
     ]
    }
   ],
   "source": [
    "from numpy import random\n",
    "\n",
    "random.seed(42)\n",
    "\n",
    "dict = {f'name_{i}' : random.randint(1,101) for i in range(1,11) }\n",
    "\n",
    "arr_values = dict.values()\n",
    "\n",
    "resulr_dict = {'кількість студентів': len(arr_values),\n",
    "               'середня оцінка' : sum(arr_values) / len(arr_values),\n",
    "               'найвища оцінка' : max(arr_values),\n",
    "               'найнижча оцінка' : min(arr_values),\n",
    "               }\n",
    "\n",
    "print(resulr_dict)"
   ]
  }
 ],
 "metadata": {
  "kernelspec": {
   "display_name": "Python 3",
   "language": "python",
   "name": "python3"
  },
  "language_info": {
   "codemirror_mode": {
    "name": "ipython",
    "version": 3
   },
   "file_extension": ".py",
   "mimetype": "text/x-python",
   "name": "python",
   "nbconvert_exporter": "python",
   "pygments_lexer": "ipython3",
   "version": "3.11.9"
  }
 },
 "nbformat": 4,
 "nbformat_minor": 2
}
