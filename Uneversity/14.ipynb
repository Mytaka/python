{
 "cells": [
  {
   "cell_type": "markdown",
   "metadata": {},
   "source": [
    "Завдання 1:\n",
    "Користувач робить внесок у розмірі x грн  терміном на n роки під 10% річних (кожний рік розмір його вкладу збільшується на 10%. Ці гроші додаються до суми вкладу, і на них наступного року теж будуть відсотки).\n",
    "Написати функцію bank, яка приймає аргументи x та years, і повертає суму, яка буде на рахунку користувача.\n"
   ]
  },
  {
   "cell_type": "code",
   "execution_count": 4,
   "metadata": {},
   "outputs": [
    {
     "name": "stdout",
     "output_type": "stream",
     "text": [
      "259.37424601000026\n"
     ]
    }
   ],
   "source": [
    "def bank(x, years):\n",
    "    for _ in range(0,years):\n",
    "        x = x * 1.10 \n",
    "    return x\n",
    "\n",
    "money = 100 # grn\n",
    "n = 10 # years \n",
    "\n",
    "print(bank(money,n))\n",
    " "
   ]
  },
  {
   "cell_type": "markdown",
   "metadata": {},
   "source": [
    "Завдання 2:\n",
    "Напишіть програму, яка буде пропонувати взуття залежно від погоди. Запитайте користувача про погоду на вулиці з трьома варіантами (сонячно, дощ або сніг) і надайте правильну пропозицію щодо взуття (кросівки, гумові черевики або черевики). Кожен параметр має бути написаний як окрема функція, яка друкує повідомлення на основі вхідних даних"
   ]
  },
  {
   "cell_type": "code",
   "execution_count": 9,
   "metadata": {},
   "outputs": [
    {
     "name": "stdout",
     "output_type": "stream",
     "text": [
      "It is sunny day, good for wear Sneaker!\n"
     ]
    }
   ],
   "source": [
    "def wear(user):\n",
    "    match user:\n",
    "        case 'sunny':\n",
    "            return 'It is sunny day, good for wear Sneaker!'\n",
    "        case 'snowy':\n",
    "            return 'Wow! It is snowing, better to wear Boots.'\n",
    "        case 'rainy':\n",
    "            return 'Oops, It is reining, Gumboot would be better to wear.'\n",
    "    return 'Invalid options'\n",
    "\n",
    "\n",
    "user = input('What is the weather today? (sunny, rainy, snowy): ')\n",
    "\n",
    "print(wear(user))"
   ]
  },
  {
   "cell_type": "markdown",
   "metadata": {},
   "source": [
    "Завдання 3:\n",
    "Напишіть функцію, яка створює комбінацію двох списків таким чином:\n",
    "[1, 2, 3] (+) [11, 22, 33] -> [1, 11, 2, 22, 3, 33]\n"
   ]
  },
  {
   "cell_type": "code",
   "execution_count": null,
   "metadata": {},
   "outputs": [
    {
     "name": "stdout",
     "output_type": "stream",
     "text": [
      "[1, 11, 2, 22, 3, 33]\n"
     ]
    }
   ],
   "source": [
    "def combinate(list1,list2):\n",
    "    res = []\n",
    "    for a,b in zip(list1,list2):\n",
    "        res.extend([a,b])\n",
    "    return res\n",
    "\n",
    "list1 = [1,2,3]\n",
    "list2 = [11,22,33]\n",
    "\n",
    "print(combinate(list1,list2))"
   ]
  },
  {
   "cell_type": "markdown",
   "metadata": {},
   "source": [
    "Завдання 4:\n",
    "Дата характеризується трьома натуральними числами: день, місяць та рік. З огляду на те, що рік може бути високосним, реалізуйте дві функції, які визначають вчорашню та завтрашню дату.\n"
   ]
  },
  {
   "cell_type": "code",
   "execution_count": 44,
   "metadata": {},
   "outputs": [
    {
     "name": "stdout",
     "output_type": "stream",
     "text": [
      "01 11 2024\n",
      "03 11 2024\n"
     ]
    }
   ],
   "source": [
    "from datetime import datetime, timedelta\n",
    "\n",
    "def yestoday():\n",
    "    yesterday =  datetime.now() - timedelta(days=1)\n",
    "    print( yesterday.strftime('%d %m %Y') )\n",
    "\n",
    "def tomorrow():\n",
    "    tomorrow = datetime.now() + timedelta(days=1)\n",
    "    print( tomorrow.strftime('%d %m %Y'))\n",
    "\n",
    "\n",
    "yestoday()\n",
    "tomorrow()"
   ]
  },
  {
   "cell_type": "markdown",
   "metadata": {},
   "source": [
    "Завдання 5:\n",
    "Дано рядок і символ. Реалізуйте функцію, яка малює рамку із символу навколо цього рядка, "
   ]
  },
  {
   "cell_type": "code",
   "execution_count": 57,
   "metadata": {},
   "outputs": [
    {
     "name": "stdout",
     "output_type": "stream",
     "text": [
      "\n",
      "***********\n",
      "*Some text*\n",
      "***********\n",
      "           \n"
     ]
    }
   ],
   "source": [
    "def decorate(text):\n",
    "    alen = len(text) + 2\n",
    "\n",
    "    print(f'''\n",
    "{'*' * alen}\n",
    "*{text}*\n",
    "{'*' * alen}\n",
    "           ''')\n",
    "\n",
    "text = 'Some text'\n",
    "\n",
    "decorate(text)"
   ]
  },
  {
   "cell_type": "markdown",
   "metadata": {},
   "source": [
    "Завдання 6*:\n",
    "Напишіть програму, в якій визначено такі чотири функції:\n",
    "1. Функція getInput не має параметрів, запитує введення з клавіатури і повертає в основну програму отриманий рядок.\n",
    "2. Функція testInput має один параметр. У тілі вона перевіряє, чи передане їй значення можна перетворити до цілого числа. Якщо це можливо, повертає логічне True. Якщо не можна – False.\n",
    "3. Функція strToInt має один параметр. У тілі перетворює передане значення до цілого типу. Повертає отримане число.\n",
    "4. Функція printInt має один параметр. Вона виводить надіслане значення на екран і нічого не повертає.\n",
    "В основній галузі програми викличте першу функцію. Те, що вона повернула, передайте другу функцію. Якщо друга функція повернула True, то ті самі дані (з першої функції) передайте в третю функцію, а повернене третьою функцією значення – четверту."
   ]
  },
  {
   "cell_type": "code",
   "execution_count": null,
   "metadata": {},
   "outputs": [
    {
     "name": "stdout",
     "output_type": "stream",
     "text": [
      "10\n"
     ]
    }
   ],
   "source": [
    "getInput = lambda: input('Write: ')\n",
    "testInput= lambda text: text.isdigit()\n",
    "strToInt = lambda number: int(number)\n",
    "printInt = lambda user: print(user)\n",
    "\n",
    "user = getInput()\n",
    "isnumber = testInput(user)\n",
    "\n",
    "if isnumber is True:\n",
    "    number = strToInt(user)\n",
    "\n",
    "printInt(number)"
   ]
  },
  {
   "cell_type": "markdown",
   "metadata": {},
   "source": [
    "Завдання 7:\n",
    "Напишіть програму, яка приймає послідовність слів, розділену дефісами, як вхідні дані та друкує слова в послідовності, розділеної дефісами, після сортування в алфавітному порядку. \n",
    "Зразок: зелений-червоний-жовтий-чорно-білий\n",
    "Очікуваний результат: білий-жовтий-зелений-червоний-чорний"
   ]
  },
  {
   "cell_type": "code",
   "execution_count": 66,
   "metadata": {},
   "outputs": [
    {
     "name": "stdout",
     "output_type": "stream",
     "text": [
      "['білий', 'жовтий', 'зелений', 'червоний', 'чорно']\n"
     ]
    }
   ],
   "source": [
    "def sort(sentence):\n",
    "    words = sentence.split('-')\n",
    "    return sorted(words, key=lambda x: x[0])\n",
    "\n",
    "sentence = 'зелений-червоний-жовтий-чорно-білий'\n",
    "\n",
    "print(sort(sentence))"
   ]
  },
  {
   "cell_type": "markdown",
   "metadata": {},
   "source": [
    "Завдання 8:\n",
    "Напишіть функцію is_valid_email, яка приймає адресу електронної пошти як аргумент і повертає True/False залежно від того, чи є це адреса електронної пошти дійсною.\n"
   ]
  },
  {
   "cell_type": "markdown",
   "metadata": {},
   "source": [
    "Правила перевірки:\n",
    "Має містити символ @\n",
    "Має бути принаймні 1 символ перед та після символу @.\n",
    "Має містити принаймні 2 літери після останньої крапки (.).\n",
    "Максимум 256 символів\n",
    "Має починатися з літери або цифри\n"
   ]
  },
  {
   "cell_type": "code",
   "execution_count": 74,
   "metadata": {},
   "outputs": [
    {
     "name": "stdout",
     "output_type": "stream",
     "text": [
      "200\n"
     ]
    }
   ],
   "source": [
    "def is_valid_email(gmail):\n",
    "    if '@' not in gmail:\n",
    "        return 'Incorrect gmail error1'\n",
    "\n",
    "    splited = gmail.split('@')\n",
    "    if len(splited) != 2 or len(splited[0]) < 1 or len(splited[1]) < 1:\n",
    "        return'Incorrect gmail error2'\n",
    "    \n",
    "    splited = gmail.split('.')\n",
    "    if len(splited) != 2 or len(splited[1]) < 2:\n",
    "        return 'Incorrect gmail error3'\n",
    "\n",
    "    if len(gmail) > 256:\n",
    "        return 'Incorrect gmail error4'\n",
    "    \n",
    "    if not gmail[0].isdigit() and not gmail[0].isalpha():\n",
    "        return 'Incorrect gmail error5'\n",
    "\n",
    "    return 200\n",
    "\n",
    "\n",
    "gmail = 'nupp@gmail.com'\n",
    "\n",
    "print(is_valid_email(gmail))"
   ]
  }
 ],
 "metadata": {
  "kernelspec": {
   "display_name": "Python 3",
   "language": "python",
   "name": "python3"
  },
  "language_info": {
   "codemirror_mode": {
    "name": "ipython",
    "version": 3
   },
   "file_extension": ".py",
   "mimetype": "text/x-python",
   "name": "python",
   "nbconvert_exporter": "python",
   "pygments_lexer": "ipython3",
   "version": "3.11.9"
  }
 },
 "nbformat": 4,
 "nbformat_minor": 2
}
