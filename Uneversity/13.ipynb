{
 "cells": [
  {
   "cell_type": "markdown",
   "metadata": {},
   "source": [
    "Завдання 1: \n",
    "Для двох множин set1, set2 повернути, множину, яка містить елементи, що повторюються в кожній з множин\n"
   ]
  },
  {
   "cell_type": "code",
   "execution_count": 1,
   "metadata": {},
   "outputs": [
    {
     "name": "stdout",
     "output_type": "stream",
     "text": [
      "{40, 50, 30}\n"
     ]
    }
   ],
   "source": [
    "set1 = {10, 20, 30, 40, 50}\n",
    "set2 = {30, 40, 50, 60, 70}\n",
    "\n",
    "print( set1.intersection(set2) )"
   ]
  },
  {
   "cell_type": "markdown",
   "metadata": {},
   "source": [
    "Завдання 2:\n",
    "Напишіть програму, яка для двох множин set1, set2 повертає нову множину з унікальними елементами з обох наборів шляхом видалення дублікатів."
   ]
  },
  {
   "cell_type": "code",
   "execution_count": 4,
   "metadata": {},
   "outputs": [
    {
     "name": "stdout",
     "output_type": "stream",
     "text": [
      "{70, 40, 10, 50, 20, 60, 30}\n"
     ]
    }
   ],
   "source": [
    "set1 = {10, 20, 30, 40, 50}\n",
    "set2 = {30, 40, 50, 60, 70}\n",
    "\n",
    "print( set1.union(set2) )"
   ]
  },
  {
   "cell_type": "markdown",
   "metadata": {},
   "source": [
    "Завдання 3:\n",
    "Напишіть програму, яка повертає набір елементів, присутніх у множині A або B, але не в обох."
   ]
  },
  {
   "cell_type": "code",
   "execution_count": 3,
   "metadata": {},
   "outputs": [
    {
     "name": "stdout",
     "output_type": "stream",
     "text": [
      "{70, 10, 20, 60}\n"
     ]
    }
   ],
   "source": [
    "A = {10, 20, 30, 40, 50}\n",
    "B = {30, 40, 50, 60, 70}\n",
    "\n",
    "set1 = A.difference(B)\n",
    "set2 = B.difference(A)\n",
    "\n",
    "print( set1.union(set2) )\n"
   ]
  },
  {
   "cell_type": "markdown",
   "metadata": {},
   "source": [
    "Завдання 4:\n",
    "Напишіть програму, яка в заданих двох списках, знаходить пропущені та додаткові значення. \n",
    "Приклади:"
   ]
  },
  {
   "cell_type": "markdown",
   "metadata": {},
   "source": [
    "Результат : \n",
    "Missing values in list1 = [8, 7] \n",
    "Additional values in list1 = [1, 2, 3] \n",
    "Missing values in list2 = [1, 2, 3] \n",
    "Additional values in list2 = [8, 7] "
   ]
  },
  {
   "cell_type": "code",
   "execution_count": null,
   "metadata": {},
   "outputs": [
    {
     "name": "stdout",
     "output_type": "stream",
     "text": [
      "\n",
      "Missing values in list1 = [8, 7]\n",
      "Additional values in list1 = [1, 2, 3]\n",
      "Missing values in list2 = [1, 2, 3]\n",
      "Additional values in list2 = [8, 7]\n",
      "\n"
     ]
    }
   ],
   "source": [
    "list1 = [1, 2, 3, 4, 5, 6] \n",
    "list2 = [4, 5, 6, 7, 8] \n",
    "\n",
    "set1 = set(list1)\n",
    "set2 = set(list2) \n",
    "\n",
    "print( f'''\n",
    "Missing values in list1 = {list(set2 - set1)}\n",
    "Additional values in list1 = {list(set1 - set2)}\n",
    "Missing values in list2 = {list(set1 - set2)}\n",
    "Additional values in list2 = {list(set2 - set1)}\n",
    "        ''' )"
   ]
  },
  {
   "cell_type": "markdown",
   "metadata": {},
   "source": [
    "Завдання 5:\n",
    "Напишіть програму щоб перевірити, чи множини не мають спільних елементів"
   ]
  },
  {
   "cell_type": "markdown",
   "metadata": {},
   "source": [
    "Compare A and B : True\n",
    "Compare B and Z : False\n",
    "Compare A and Z : True"
   ]
  },
  {
   "cell_type": "code",
   "execution_count": 60,
   "metadata": {},
   "outputs": [
    {
     "name": "stdout",
     "output_type": "stream",
     "text": [
      "\n",
      "Compare A and B : True\n",
      "Compare B and Z : False\n",
      "Compare A and Z : True\n",
      "         \n"
     ]
    }
   ],
   "source": [
    "a = {23, 8, 56, 45, 78}\n",
    "b = {42, 26, 55, 87}\n",
    "z = {46, 87}\n",
    "\n",
    "print ( f'''\n",
    "Compare A and B : {len(a.intersection(b)) == 0}\n",
    "Compare B and Z : {len(b.intersection(z)) == 0}\n",
    "Compare A and Z : {len(a.intersection(z)) == 0}\n",
    "         ''')"
   ]
  },
  {
   "cell_type": "markdown",
   "metadata": {},
   "source": [
    "Завдання 6:\n",
    "Напишіть програму, яка для згенерованої послідовності чисел 1, 50  i перевіряє, чи введене користувачем число належить даній послідовності."
   ]
  },
  {
   "cell_type": "markdown",
   "metadata": {},
   "source": [
    "Enter the Number :7\n",
    "The Number is a Within a Range...\n",
    "Enter the Number :0\n",
    "Your Number is Low..\n",
    "Enter the Number :100\n",
    "Your Number is High..."
   ]
  },
  {
   "cell_type": "code",
   "execution_count": null,
   "metadata": {},
   "outputs": [
    {
     "name": "stdout",
     "output_type": "stream",
     "text": [
      "Your Number is High...\n",
      "The Number is a Within a Range...\n",
      "Your Number is Low..\n"
     ]
    }
   ],
   "source": [
    "numbers = {i for i in range(1,51)}\n",
    "\n",
    "user = input('Enter the Number :0')\n",
    "\n",
    "while user != '-':\n",
    "    \n",
    "    if int(user) <= 1:\n",
    "        print('Your Number is Low..')\n",
    "    elif int(user) >= 50:\n",
    "        print('Your Number is High...')\n",
    "    else:\n",
    "        print('The Number is a Within a Range...')\n",
    "   \n",
    "    user = input('Enter the Number :0')"
   ]
  },
  {
   "cell_type": "markdown",
   "metadata": {},
   "source": [
    "Завдання 7:\n",
    "Напишіть програму для підрахунку кількості голосних за допомогою множин у заданому рядку."
   ]
  },
  {
   "cell_type": "markdown",
   "metadata": {},
   "source": [
    "String : Tutor Joes\n",
    "Number of Vowels : 4"
   ]
  },
  {
   "cell_type": "code",
   "execution_count": 1,
   "metadata": {},
   "outputs": [
    {
     "name": "stdout",
     "output_type": "stream",
     "text": [
      "4\n"
     ]
    }
   ],
   "source": [
    "str = 'Tutor Joes'\n",
    "\n",
    "set = set(str)  \n",
    "\n",
    "my_set = {'T','t','r',' ','J','s',''}\n",
    "\n",
    "count = 0\n",
    "\n",
    "for i in str:\n",
    "    if i not in my_set:\n",
    "        count += 1 \n",
    "\n",
    "print(count)\n"
   ]
  },
  {
   "cell_type": "markdown",
   "metadata": {},
   "source": [
    "Завдання 8:\n",
    "Для двох множин, що містять унікальні ідентифікатори клієнтів з двох різних списків покупців (нових і постійних). Виведіть список унікальних клієнтів, які здійснили покупки в обох списках."
   ]
  },
  {
   "cell_type": "code",
   "execution_count": 4,
   "metadata": {},
   "outputs": [
    {
     "name": "stdout",
     "output_type": "stream",
     "text": [
      "Cписок унікальних клієнтів, які здійснили покупки в обох списках:  {'CUST-01567', 'CUST-01234', 'CUST-01901'}\n"
     ]
    }
   ],
   "source": [
    "# Список нових клієнтів \n",
    "new_customers = {\"CUST-00123\", \"CUST-00456\", \"CUST-00789\", \"CUST-01234\", \"CUST-01567\", \"CUST-01901\", \"CUST-02345\", \"CUST-02789\", \"CUST-03012\", \"CUST-03345\"} \n",
    "\n",
    "# Список постійних клієнтів \n",
    "existing_customers = {\"CUST-01567\", \"CUST-01901\", \"CUST-04567\", \"CUST-05678\", \"CUST-06789\", \"CUST-07890\", \"CUST-08901\", \"CUST-09012\", \"CUST-01234\", \"CUST-12345\"}\n",
    "\n",
    "print('Cписок унікальних клієнтів, які здійснили покупки в обох списках: ', new_customers.intersection(existing_customers))"
   ]
  },
  {
   "cell_type": "markdown",
   "metadata": {},
   "source": [
    "Завдання 9: \n",
    "Зберіть списки продуктів, які пропонують ваш магазин та конкуренти. Визначте, які продукти унікальні для кожного з магазинів, і які продукти є спільними для обох.\n"
   ]
  },
  {
   "cell_type": "code",
   "execution_count": 2,
   "metadata": {},
   "outputs": [
    {
     "name": "stdout",
     "output_type": "stream",
     "text": [
      "Продукти унікальні для store_products:  {'Гра Nintendo Switch', 'Телевізор LG OLED55', 'Ноутбук Acer Aspire', 'Монітор Dell UltraSharp', 'Клавіатура Razer BlackWidow', 'Внешній жорсткий диск Seagate', 'Модем TP-Link Archer', 'Навушники Sony WH-1000XM4', 'Камера Canon EOS M50'}\n",
      "Продукти унікальні для competitor_products: {'Телевізор Samsung QLED', 'Ноутбук Lenovo IdeaPad', 'Смарт-годинник Garmin Fenix', 'Ноутбук HP Pavilion', 'Модем Asus RT-AX86U', 'Внешній жорсткий диск Western Digital', 'Камера Nikon Z50', 'Монітор Asus ROG', 'Планшет Samsung Galaxy Tab', 'Навушники Apple AirPods Pro', 'Робот-пилосос iRobot Roomba', 'Смартфон iPhone 13', 'Гра Xbox Series X', 'Геймерська клавіатура Corsair K95', 'Камера Insta360 ONE X2'}\n",
      "Продукти є спільними для обох:  {'Смартфон Samsung Galaxy S21', 'Геймерська миша Logitech G502', 'Смарт-годинник Apple Watch', 'Камера GoPro Hero9', 'Робот-пилосос Xiaomi', 'Планшет Apple iPad Air'}\n"
     ]
    }
   ],
   "source": [
    "store_products = { \"Ноутбук Acer Aspire\", \"Смартфон Samsung Galaxy S21\", \"Планшет Apple iPad Air\", \"Навушники Sony WH-1000XM4\", \"Телевізор LG OLED55\", \"Гра Nintendo Switch\", \n",
    "                  \"Внешній жорсткий диск Seagate\", \"Камера Canon EOS M50\", \"Монітор Dell UltraSharp\", \"Геймерська миша Logitech G502\", \"Клавіатура Razer BlackWidow\", \n",
    "                  \"Камера GoPro Hero9\", \"Робот-пилосос Xiaomi\", \"Смарт-годинник Apple Watch\", \"Модем TP-Link Archer\" }\n",
    "\n",
    "competitor_products = { \"Смартфон iPhone 13\", \"Ноутбук HP Pavilion\", \"Планшет Samsung Galaxy Tab\", \"Навушники Apple AirPods Pro\", \"Телевізор Samsung QLED\", \n",
    "                       \"Гра Xbox Series X\", \"Внешній жорсткий диск Western Digital\", \"Камера Nikon Z50\", \"Монітор Asus ROG\", \"Геймерська клавіатура Corsair K95\", \n",
    "                       \"Камера Insta360 ONE X2\", \"Робот-пилосос iRobot Roomba\", \"Смарт-годинник Garmin Fenix\", \"Модем Asus RT-AX86U\", \"Ноутбук Lenovo IdeaPad\", \n",
    "                       \"Смартфон Samsung Galaxy S21\", \"Геймерська миша Logitech G502\", \"Камера GoPro Hero9\",  \"Робот-пилосос Xiaomi\", \"Смарт-годинник Apple Watch\", \n",
    "                       \"Планшет Apple iPad Air\" }\n",
    "\n",
    "print('Продукти унікальні для store_products: ', store_products.difference(competitor_products))\n",
    "print('Продукти унікальні для competitor_products:', competitor_products.difference(store_products))\n",
    "print('Продукти є спільними для обох: ', store_products.intersection(competitor_products))\n"
   ]
  }
 ],
 "metadata": {
  "kernelspec": {
   "display_name": "Python 3",
   "language": "python",
   "name": "python3"
  },
  "language_info": {
   "codemirror_mode": {
    "name": "ipython",
    "version": 3
   },
   "file_extension": ".py",
   "mimetype": "text/x-python",
   "name": "python",
   "nbconvert_exporter": "python",
   "pygments_lexer": "ipython3",
   "version": "3.11.9"
  }
 },
 "nbformat": 4,
 "nbformat_minor": 2
}
