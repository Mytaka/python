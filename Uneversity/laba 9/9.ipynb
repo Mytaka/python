{
 "cells": [
  {
   "cell_type": "markdown",
   "metadata": {},
   "source": [
    "\n",
    "Завдання 1: Написати програму, яка знаходить суму усіх елементів списку."
   ]
  },
  {
   "cell_type": "code",
   "execution_count": 54,
   "metadata": {},
   "outputs": [
    {
     "name": "stdout",
     "output_type": "stream",
     "text": [
      "10\n"
     ]
    }
   ],
   "source": [
    "list = [1,2,3,4]\n",
    "res = 0\n",
    "for i in list:\n",
    "  res += i\n",
    "print(res)"
   ]
  },
  {
   "cell_type": "markdown",
   "metadata": {},
   "source": [
    "Завдання 2: Написати програму, яка рахує кількість елементів списку, які мають два та більше символів."
   ]
  },
  {
   "cell_type": "code",
   "execution_count": 53,
   "metadata": {},
   "outputs": [
    {
     "name": "stdout",
     "output_type": "stream",
     "text": [
      "2\n"
     ]
    }
   ],
   "source": [
    "list = [1, 2, 3, 4, 10, 'hi', None]\n",
    "\n",
    "list = [x for x in list if x != None]\n",
    "\n",
    "res = 0\n",
    "\n",
    "for i in list:\n",
    "    i = str(i)\n",
    "\n",
    "    if len(i) >= 2:\n",
    "        res += 1\n",
    "\n",
    "print(res)"
   ]
  },
  {
   "cell_type": "markdown",
   "metadata": {},
   "source": [
    "Завдання 3:\n",
    "Напишіть програму, яка приймає список з ім'я користувачів та їх віком (в форматі списку, де кожен елемент — це підсписок з іменем і віком) і повертає список імен користувачів, які старші за заданий вік.\n"
   ]
  },
  {
   "cell_type": "code",
   "execution_count": 52,
   "metadata": {},
   "outputs": [
    {
     "name": "stdout",
     "output_type": "stream",
     "text": [
      "['Ольга', 'Марія', 'Сергій', 'Ірина', 'Тетяна', 'Олександр', 'Юлія']\n"
     ]
    }
   ],
   "source": [
    "users = [ [\"Андрій\", 25], [\"Ольга\", 30], [\"Віктор\", 22], [\"Марія\", 28], [\"Сергій\", 35], [\"Ірина\", 27], [\"Дмитро\", 20], [\"Тетяна\", 32], [\"Олександр\", 40], [\"Юлія\", 29] ]\n",
    "min_age = 26\n",
    "\n",
    "list_of_names = []\n",
    "\n",
    "for name, age in users:\n",
    "  if age > 25:\n",
    "    list_of_names += [name]\n",
    "\n",
    "print(list_of_names)"
   ]
  },
  {
   "cell_type": "markdown",
   "metadata": {},
   "source": [
    "Завдання 4: Напишіть програму, яка приймає список студентів у форматі [[\"ім'я\", оцінка]] і повертає список студентів, відсортований за оцінками у порядку спадання. Вхідні дані: students = [ [\"Олена\", 85], [\"Іван\", 92], [\"Марія\", 78], [\"Сергій\", 88], [\"Анастасія\", 95], [\"Дмитро\", 80], [\"Тетяна\", 90] ] Результат: Студенти, відсортовані за оцінками у порядку спадання: Анастасія - 95 Іван - 92 Тетяна - 90 Сергій - 88 Олена - 85 Дмитро - 80 Марія – 78"
   ]
  },
  {
   "cell_type": "code",
   "execution_count": 51,
   "metadata": {},
   "outputs": [
    {
     "name": "stdout",
     "output_type": "stream",
     "text": [
      "[['Анастасія', 95], ['Іван', 92], ['Тетяна', 90], ['Сергій', 88], ['Олена', 85], ['Дмитро', 80], ['Марія', 78]]\n"
     ]
    }
   ],
   "source": [
    "students = [ [\"Олена\", 85], [\"Іван\", 92], [\"Марія\", 78], [\"Сергій\", 88], [\"Анастасія\", 95], [\"Дмитро\", 80], [\"Тетяна\", 90] ]\n",
    "\n",
    "print(sorted(students, key=lambda x: x[1], reverse=True))"
   ]
  },
  {
   "cell_type": "markdown",
   "metadata": {},
   "source": [
    "Завдання 5:\n",
    "\n",
    "Відкрийте файл romeo.txt і прочитайте його рядок за рядком. Для кожного рядка розділити рядок на список слів методом split (). Програма повинна скласти список слів. Для кожного слова в кожному рядку перевірте, чи слово вже є у списку, і якщо ні, його слід додати до списку. Коли програма завершиться, список необхідно відсортувати та вивести на друк слова в алфавітному порядку.\n",
    "fname = input(\"Enter file name: \")\n",
    "fh = open(fname)\n",
    "lst = list()\n"
   ]
  },
  {
   "cell_type": "code",
   "execution_count": 50,
   "metadata": {},
   "outputs": [
    {
     "name": "stdout",
     "output_type": "stream",
     "text": [
      "['And', 'At', 'Aurora', 'But', 'Exhales', \"Fill'd\", 'From', 'God', 'Let', 'Majestic', 'More', \"Night's\", 'So', 'Soft', 'Soon', 'The', 'Then', 'Through', 'air', 'all', 'are', 'as', 'beauteous', 'begin', 'below!', 'birds', 'blooming', 'breasts', 'cease,', 'curtains', 'day', 'deepest', 'dies', 'draws', 'drowsy', 'each', 'eastern', \"ev'ry\", 'eyes,', 'fair', 'floats.', 'forsook', 'from', 'gives', 'glories', 'glow,', 'grandeur!', 'guarded', \"heav'nly\", \"heav'nly,\", \"heav'ns\", 'him', 'in', 'incense', 'labours', 'leaden', 'light,', 'living', 'main', 'may', 'mind,', 'mingled', 'more', 'morn', 'music', 'my', 'night,', 'notes,', 'of', 'our', 'pealing', 'placid', 'plain;', 'praise', 'pure,', 'purl', 'red:', \"refin'd;\", 'renew', 'rise.', 'sable', 'sceptre', 'seals', 'shall', 'shook', 'sin.', 'slumbers', 'snares', 'song,', 'sooth', 'spread!', 'spring.', 'streams,', 'sun', 'temples', 'the', 'their', 'through', 'thunder', 'till', 'to', 'virtue', 'wake', 'weary', 'west', 'what', 'who', 'wing,', 'with', \"zephyr's\"]\n"
     ]
    }
   ],
   "source": [
    "fname = input(\"Enter file name: \")\n",
    "if len(fname) < 1 : fname = \"poetry.txt\"\n",
    "\n",
    "with open(f'{fname}', 'r') as file:\n",
    "    lines = file.readlines()\n",
    "\n",
    "arr = []\n",
    "for i in lines:\n",
    "    arr += i.split(' ')\n",
    "\n",
    "lst = []\n",
    "for j in arr:\n",
    "    j = j.strip()\n",
    "    \n",
    "    if j not in lst:\n",
    "        lst.append(j)\n",
    "\n",
    "lst.sort()\n",
    "\n",
    "print(lst)\n"
   ]
  },
  {
   "cell_type": "markdown",
   "metadata": {},
   "source": [
    "Завдання 6: Відкрийте файл mbox-short.txt і прочитайте його рядок за рядком. Коли ви знайдете рядок, який починається словом 'From', як наведено нижче : From stephen.marquard@uct.ac.za Sat Jan 5 09:14:16 2008 такий рядок необхідно розбити на слова за допомогою split () і роздрукувати друге слово в рядку (тобто всю адресу особи, яка відправила повідомлення). Вивести кількість таких поштових адрес."
   ]
  },
  {
   "cell_type": "code",
   "execution_count": 2,
   "metadata": {},
   "outputs": [
    {
     "name": "stdout",
     "output_type": "stream",
     "text": [
      "['stephen.marquard@uct.ac.za', 'stephen.marquard@uct.ac.za', 'louis@media.berkeley.edu', 'louis@media.berkeley.edu', 'zqian@umich.edu', 'zqian@umich.edu', 'rjlowe@iupui.edu', 'rjlowe@iupui.edu', 'zqian@umich.edu', 'zqian@umich.edu', 'rjlowe@iupui.edu', 'rjlowe@iupui.edu', 'cwen@iupui.edu', 'cwen@iupui.edu', 'cwen@iupui.edu', 'cwen@iupui.edu', 'gsilver@umich.edu', 'gsilver@umich.edu', 'gsilver@umich.edu', 'gsilver@umich.edu', 'zqian@umich.edu', 'zqian@umich.edu', 'gsilver@umich.edu', 'gsilver@umich.edu', 'wagnermr@iupui.edu', 'wagnermr@iupui.edu', 'zqian@umich.edu', 'zqian@umich.edu', 'antranig@caret.cam.ac.uk', 'antranig@caret.cam.ac.uk', 'gopal.ramasammycook@gmail.com', 'gopal.ramasammycook@gmail.com', 'david.horwitz@uct.ac.za', 'david.horwitz@uct.ac.za', 'david.horwitz@uct.ac.za', 'david.horwitz@uct.ac.za', 'david.horwitz@uct.ac.za', 'david.horwitz@uct.ac.za', 'david.horwitz@uct.ac.za', 'david.horwitz@uct.ac.za', 'stephen.marquard@uct.ac.za', 'stephen.marquard@uct.ac.za', 'louis@media.berkeley.edu', 'louis@media.berkeley.edu', 'louis@media.berkeley.edu', 'louis@media.berkeley.edu', 'ray@media.berkeley.edu', 'ray@media.berkeley.edu', 'cwen@iupui.edu', 'cwen@iupui.edu', 'cwen@iupui.edu', 'cwen@iupui.edu', 'cwen@iupui.edu', 'cwen@iupui.edu']\n",
      "There were 54 lines in the file with From as the first word\n"
     ]
    }
   ],
   "source": [
    "fname = input(\"Enter file name: \")\n",
    "if len(fname) < 1 : fname = \"mbox-short.txt\"\n",
    "\n",
    "with open(f'{fname}', 'r') as file:\n",
    "    lines = file.readlines()\n",
    "\n",
    "gmails = []\n",
    "for i in lines:\n",
    "    if i.startswith('From'):\n",
    "        gmails.append( i.split(' ')[1].strip() )\n",
    "\n",
    "print(gmails)\n",
    "print(\"There were\", len(gmails), \"lines in the file with From as the first word\")"
   ]
  }
 ],
 "metadata": {
  "kernelspec": {
   "display_name": "Python 3",
   "language": "python",
   "name": "python3"
  },
  "language_info": {
   "codemirror_mode": {
    "name": "ipython",
    "version": 3
   },
   "file_extension": ".py",
   "mimetype": "text/x-python",
   "name": "python",
   "nbconvert_exporter": "python",
   "pygments_lexer": "ipython3",
   "version": "3.11.9"
  }
 },
 "nbformat": 4,
 "nbformat_minor": 2
}
