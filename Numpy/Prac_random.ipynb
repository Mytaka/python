{
 "cells": [
  {
   "cell_type": "code",
   "execution_count": 1,
   "metadata": {},
   "outputs": [
    {
     "name": "stdout",
     "output_type": "stream",
     "text": [
      "Сила удара: жестко\n",
      "Количество ударов: 0.8\n",
      "Ждем 30 секунд...\n",
      "1\n",
      "2\n",
      "3\n",
      "4\n"
     ]
    },
    {
     "ename": "KeyboardInterrupt",
     "evalue": "",
     "output_type": "error",
     "traceback": [
      "\u001b[1;31m---------------------------------------------------------------------------\u001b[0m",
      "\u001b[1;31mKeyboardInterrupt\u001b[0m                         Traceback (most recent call last)",
      "Cell \u001b[1;32mIn[1], line 29\u001b[0m\n\u001b[0;32m     27\u001b[0m \u001b[38;5;28;01mfor\u001b[39;00m i \u001b[38;5;129;01min\u001b[39;00m \u001b[38;5;28mrange\u001b[39m(\u001b[38;5;241m1\u001b[39m,\u001b[38;5;241m31\u001b[39m):\n\u001b[0;32m     28\u001b[0m     \u001b[38;5;28mprint\u001b[39m(i)\n\u001b[1;32m---> 29\u001b[0m     \u001b[43mtime\u001b[49m\u001b[38;5;241;43m.\u001b[39;49m\u001b[43msleep\u001b[49m\u001b[43m(\u001b[49m\u001b[38;5;241;43m1\u001b[39;49m\u001b[43m)\u001b[49m \n",
      "\u001b[1;31mKeyboardInterrupt\u001b[0m: "
     ]
    }
   ],
   "source": [
    "import random\n",
    "import time\n",
    "from IPython.display import clear_output\n",
    "import numpy \n",
    "\n",
    "def generate_random_hit():\n",
    "    clear_output(wait=True)\n",
    "    arr = [\"слабо\",\"средне\",\"жестко\"]\n",
    "    weights = [0.2, 0.4, 0.4]\n",
    "    hit_strength = random.choices(arr,weights=weights)[0]\n",
    "    num_hits = random.randint(1, 10)  \n",
    "    \n",
    "    match hit_strength:\n",
    "        case 'слабо':\n",
    "            num_hits = num_hits * 1.5\n",
    "        case 'средне':\n",
    "            num_hits = round(num_hits * 1)\n",
    "        case 'жестко':\n",
    "            num_hits = num_hits * 0.8\n",
    "\n",
    "    print(f\"Сила удара: {hit_strength}\")\n",
    "    print(f\"Количество ударов: {num_hits}\")\n",
    "\n",
    "while True:\n",
    "    generate_random_hit()\n",
    "    print(\"Ждем 30 секунд...\")\n",
    "    for i in range(1,31):\n",
    "        print(i)\n",
    "        time.sleep(1) \n",
    "        "
   ]
  },
  {
   "cell_type": "code",
   "execution_count": null,
   "metadata": {},
   "outputs": [
    {
     "name": "stdout",
     "output_type": "stream",
     "text": [
      "Цикл 41:\n",
      "Сила удара: средне\n",
      "Количество ударов: 50\n",
      "\n",
      "\n",
      "Ждем 30 секунд...\n",
      "1\n",
      "2\n",
      "3\n",
      "4\n",
      "5\n",
      "6\n",
      "7\n",
      "8\n",
      "9\n",
      "10\n",
      "11\n",
      "12\n"
     ]
    }
   ],
   "source": [
    "import random\n",
    "import time\n",
    "from IPython.display import clear_output\n",
    "\n",
    "def generate_random_hit(cycle_count):\n",
    "    clear_output(wait=True)\n",
    "\n",
    "    num_hits = random.randint(1, 10) + round(cycle_count/1.65)\n",
    "    hit_strength_value = random.randint(1, 50) + cycle_count\n",
    "\n",
    "    if hit_strength_value <= 30:  \n",
    "        hit_strength = 'слабо'\n",
    "        num_hits *= 2  \n",
    "    elif hit_strength_value <= 60:  \n",
    "        hit_strength = 'средне'\n",
    "        num_hits = round(num_hits * 1.5)  \n",
    "    elif hit_strength_value > 60:\n",
    "        if hit_strength_value > 100:\n",
    "            hit_strength_value = 100\n",
    "        hit_strength = 'жестко'\n",
    "        num_hits = num_hits / 2\n",
    "\n",
    "    print(f\"Цикл {cycle_count + 1}:\")\n",
    "    print(f\"Сила удара: {hit_strength}\") # ({hit_strength_value:.2f})\")\n",
    "    print(f\"Количество ударов: {num_hits}\")\n",
    "    print(\"\\n\")\n",
    "\n",
    "cycle_count = 0\n",
    "\n",
    "while True:\n",
    "    generate_random_hit(cycle_count) \n",
    "    if cycle_count < 40:\n",
    "        cycle_count += 1 \n",
    "    print(\"Ждем 30 секунд...\")\n",
    "    for i in range(1,31):\n",
    "        print(i)\n",
    "        time.sleep(1) "
   ]
  }
 ],
 "metadata": {
  "kernelspec": {
   "display_name": "Python 3",
   "language": "python",
   "name": "python3"
  },
  "language_info": {
   "codemirror_mode": {
    "name": "ipython",
    "version": 3
   },
   "file_extension": ".py",
   "mimetype": "text/x-python",
   "name": "python",
   "nbconvert_exporter": "python",
   "pygments_lexer": "ipython3",
   "version": "3.12.7"
  }
 },
 "nbformat": 4,
 "nbformat_minor": 2
}
