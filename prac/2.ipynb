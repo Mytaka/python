{
 "cells": [
  {
   "cell_type": "code",
   "execution_count": 7,
   "metadata": {},
   "outputs": [
    {
     "name": "stdout",
     "output_type": "stream",
     "text": [
      "Сила удара: жестко\n",
      "Количество ударов: 4\n",
      "Ждем 30 секунд...\n",
      "1\n",
      "2\n",
      "3\n"
     ]
    },
    {
     "ename": "KeyboardInterrupt",
     "evalue": "",
     "output_type": "error",
     "traceback": [
      "\u001b[1;31m---------------------------------------------------------------------------\u001b[0m",
      "\u001b[1;31mKeyboardInterrupt\u001b[0m                         Traceback (most recent call last)",
      "Cell \u001b[1;32mIn[7], line 21\u001b[0m\n\u001b[0;32m     19\u001b[0m \u001b[38;5;28;01mfor\u001b[39;00m i \u001b[38;5;129;01min\u001b[39;00m \u001b[38;5;28mrange\u001b[39m(\u001b[38;5;241m1\u001b[39m,\u001b[38;5;241m31\u001b[39m):\n\u001b[0;32m     20\u001b[0m     \u001b[38;5;28mprint\u001b[39m(i)\n\u001b[1;32m---> 21\u001b[0m     \u001b[43mtime\u001b[49m\u001b[38;5;241;43m.\u001b[39;49m\u001b[43msleep\u001b[49m\u001b[43m(\u001b[49m\u001b[38;5;241;43m1\u001b[39;49m\u001b[43m)\u001b[49m \n",
      "\u001b[1;31mKeyboardInterrupt\u001b[0m: "
     ]
    }
   ],
   "source": [
    "import random\n",
    "import time\n",
    "from IPython.display import clear_output\n",
    "import numpy \n",
    "\n",
    "def generate_random_hit():\n",
    "    clear_output(wait=True)\n",
    "    arr = [\"слабо\",\"средне\",\"жестко\"]\n",
    "    weights = [0.2, 0.3, 0.5]\n",
    "    hit_strength = random.choices(arr,weights=weights)[0]\n",
    "    num_hits = random.randint(1, 10)  \n",
    "    \n",
    "    print(f\"Сила удара: {hit_strength}\")\n",
    "    print(f\"Количество ударов: {num_hits}\")\n",
    "\n",
    "while True:\n",
    "    generate_random_hit()\n",
    "    print(\"Ждем 30 секунд...\")\n",
    "    for i in range(1,31):\n",
    "        print(i)\n",
    "        time.sleep(1) \n",
    "        "
   ]
  }
 ],
 "metadata": {
  "kernelspec": {
   "display_name": "Python 3",
   "language": "python",
   "name": "python3"
  },
  "language_info": {
   "codemirror_mode": {
    "name": "ipython",
    "version": 3
   },
   "file_extension": ".py",
   "mimetype": "text/x-python",
   "name": "python",
   "nbconvert_exporter": "python",
   "pygments_lexer": "ipython3",
   "version": "3.12.7"
  }
 },
 "nbformat": 4,
 "nbformat_minor": 2
}
