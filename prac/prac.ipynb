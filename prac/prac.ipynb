{
 "cells": [
  {
   "cell_type": "code",
   "execution_count": null,
   "metadata": {},
   "outputs": [
    {
     "name": "stdout",
     "output_type": "stream",
     "text": [
      "(X1 & X2 & X3 & X4) ∨ (X2 & X3 & X4 & ~X1) ∨ (X3 & X4 & ~X1 & ~X2)\n",
      "(X2 & X3 & X4) ∨ (X3 & X4 & ~X1)\n"
     ]
    }
   ],
   "source": [
    "from sympy import symbols, Or, And, Not\n",
    "from sympy.logic.boolalg import simplify_logic\n",
    "\n",
    "def generate_dnf(truth_table):\n",
    "    num_vars = len(truth_table[0]) - 1  \n",
    "    vars = symbols(f'X1:{num_vars + 1}') \n",
    "\n",
    "    expression = 0\n",
    "    for row in truth_table:\n",
    "        if row[-1] == 1: \n",
    "            term = []\n",
    "            for i in range(num_vars):\n",
    "                if row[i] == 1:\n",
    "                    term.append(vars[i])  \n",
    "                else:\n",
    "                    term.append(Not(vars[i]))  \n",
    "            expression = Or(expression, And(*term))  \n",
    "\n",
    "    return simplify_logic(expression, form='dnf'), expression\n",
    "\n",
    "arr = '0\t0\t0\t0\t0\t0\t0\t0\t0\t0\t0\t0\t1\t0\t1\t1'\n",
    "variant_arr = list(map(int,arr.split('\t')))\n",
    "\n",
    "truth_table = [\n",
    "    [0, 0, 0, 0, 0],  \n",
    "    [0, 0, 0, 1, 0],  \n",
    "    [0, 0, 1, 0, 0],  \n",
    "    [0, 0, 1, 1, 0],  \n",
    "    [0, 1, 0, 0, 0],  \n",
    "    [0, 1, 0, 1, 0],  \n",
    "    [0, 1, 1, 0, 0],  \n",
    "    [0, 1, 1, 1, 0],  \n",
    "    [1, 0, 0, 0, 0],  \n",
    "    [1, 0, 0, 1, 0],  \n",
    "    [1, 0, 1, 0, 0],  \n",
    "    [1, 0, 1, 1, 0],  \n",
    "    [1, 1, 0, 0, 1],  \n",
    "    [1, 1, 0, 1, 0],  \n",
    "    [1, 1, 1, 0, 1],  \n",
    "    [1, 1, 1, 1, 1]   \n",
    "]\n",
    "\n",
    "truth_table = [i[:-1][::-1] + [j] for i,j in zip(truth_table,variant_arr)]\n",
    "\n",
    "result,DDNF = generate_dnf(truth_table)\n",
    "\n",
    "DDNF = str(DDNF)\n",
    "DDNF = DDNF.replace('|','∨')\n",
    "DDNF = DDNF.replace('  ',' ')\n",
    "\n",
    "result = str(result)\n",
    "result = result.replace('|','∨')\n",
    "result = result.replace('  ',' ')\n",
    "\n",
    "print(DDNF)\n",
    "print(result)\n"
   ]
  },
  {
   "cell_type": "code",
   "execution_count": null,
   "metadata": {},
   "outputs": [
    {
     "name": "stdout",
     "output_type": "stream",
     "text": [
      "-1\n"
     ]
    }
   ],
   "source": []
  }
 ],
 "metadata": {
  "kernelspec": {
   "display_name": "Python 3",
   "language": "python",
   "name": "python3"
  },
  "language_info": {
   "codemirror_mode": {
    "name": "ipython",
    "version": 3
   },
   "file_extension": ".py",
   "mimetype": "text/x-python",
   "name": "python",
   "nbconvert_exporter": "python",
   "pygments_lexer": "ipython3",
   "version": "3.11.9"
  }
 },
 "nbformat": 4,
 "nbformat_minor": 2
}
