{
 "cells": [
  {
   "cell_type": "code",
   "execution_count": 2,
   "metadata": {},
   "outputs": [
    {
     "ename": "ModuleNotFoundError",
     "evalue": "No module named 'requests'",
     "output_type": "error",
     "traceback": [
      "\u001b[1;31m---------------------------------------------------------------------------\u001b[0m",
      "\u001b[1;31mModuleNotFoundError\u001b[0m                       Traceback (most recent call last)",
      "Cell \u001b[1;32mIn[2], line 1\u001b[0m\n\u001b[1;32m----> 1\u001b[0m \u001b[38;5;28;01mimport\u001b[39;00m \u001b[38;5;21;01mrequests\u001b[39;00m\n\u001b[0;32m      3\u001b[0m api_key \u001b[38;5;241m=\u001b[39m \u001b[38;5;124m'\u001b[39m\u001b[38;5;124mRGAPI-84276dce-a9ab-4294-aed0-f43f9340cf31\u001b[39m\u001b[38;5;124m'\u001b[39m  \u001b[38;5;66;03m# Замените на ваш реальный API-ключ\u001b[39;00m\n\u001b[0;32m      4\u001b[0m region \u001b[38;5;241m=\u001b[39m \u001b[38;5;124m'\u001b[39m\u001b[38;5;124meu\u001b[39m\u001b[38;5;124m'\u001b[39m\n",
      "\u001b[1;31mModuleNotFoundError\u001b[0m: No module named 'requests'"
     ]
    }
   ],
   "source": [
    "import requests\n",
    "\n",
    "api_key = 'RGAPI-84276dce-a9ab-4294-aed0-f43f9340cf31'  # Замените на ваш реальный API-ключ\n",
    "region = 'eu'\n",
    "game_name = 'Mytka'\n",
    "tag_line = '1234'\n",
    "\n",
    "# URL для получения PUUID\n",
    "url = f'https://{region}.api.riotgames.com/riot/account/v1/accounts/by-riot-id/{game_name}/{tag_line}'\n",
    "header = {\n",
    "    'X-Riot-Token': api_key\n",
    "}\n",
    "\n",
    "# Выполнение запроса\n",
    "response = requests.get(url, headers=header)\n",
    "\n",
    "# Проверка ответа\n",
    "if response.status_code == 200:\n",
    "    puuid = response.json().get('puuid')\n",
    "    print(f'PUUID: {puuid}')\n",
    "else:\n",
    "    print(f'Ошибка: {response.status_code}, {response.text}')\n"
   ]
  }
 ],
 "metadata": {
  "kernelspec": {
   "display_name": "Python 3",
   "language": "python",
   "name": "python3"
  },
  "language_info": {
   "codemirror_mode": {
    "name": "ipython",
    "version": 3
   },
   "file_extension": ".py",
   "mimetype": "text/x-python",
   "name": "python",
   "nbconvert_exporter": "python",
   "pygments_lexer": "ipython3",
   "version": "3.12.7"
  }
 },
 "nbformat": 4,
 "nbformat_minor": 2
}
